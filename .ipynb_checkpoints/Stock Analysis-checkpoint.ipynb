{
 "cells": [
  {
   "cell_type": "markdown",
   "id": "5d71badf",
   "metadata": {},
   "source": [
    "# Stock Analysis\n",
    "- 포트폴리오 시각화\n",
    "- 포트폴리오 수익률 분석\n",
    "- 재무제표 비교"
   ]
  },
  {
   "cell_type": "markdown",
   "id": "e6c4ba99",
   "metadata": {},
   "source": [
    "### 함수 호출"
   ]
  },
  {
   "cell_type": "code",
   "execution_count": 2,
   "id": "4337ffbd",
   "metadata": {},
   "outputs": [],
   "source": [
    "import numpy as np\n",
    "import pandas as pd\n",
    "import yfinance as yf\n",
    "import FinanceDataReader as fdr\n",
    "import matplotlib.pyplot as plt\n",
    "yf.pdr_override()"
   ]
  },
  {
   "cell_type": "markdown",
   "id": "462d22f2",
   "metadata": {},
   "source": [
    "### 데이터 생성 및 시각화"
   ]
  },
  {
   "cell_type": "code",
   "execution_count": 23,
   "id": "b656305c",
   "metadata": {},
   "outputs": [
    {
     "data": {
      "text/html": [
       "<div>\n",
       "<style scoped>\n",
       "    .dataframe tbody tr th:only-of-type {\n",
       "        vertical-align: middle;\n",
       "    }\n",
       "\n",
       "    .dataframe tbody tr th {\n",
       "        vertical-align: top;\n",
       "    }\n",
       "\n",
       "    .dataframe thead th {\n",
       "        text-align: right;\n",
       "    }\n",
       "</style>\n",
       "<table border=\"1\" class=\"dataframe\">\n",
       "  <thead>\n",
       "    <tr style=\"text-align: right;\">\n",
       "      <th></th>\n",
       "      <th>AVERPRICE</th>\n",
       "      <th>STOCKNUM</th>\n",
       "      <th>HOLDQUANTITY</th>\n",
       "    </tr>\n",
       "  </thead>\n",
       "  <tbody>\n",
       "    <tr>\n",
       "      <th>UNH</th>\n",
       "      <td>536.38</td>\n",
       "      <td>0.316620</td>\n",
       "      <td>169.828636</td>\n",
       "    </tr>\n",
       "    <tr>\n",
       "      <th>DVN</th>\n",
       "      <td>64.15</td>\n",
       "      <td>1.542892</td>\n",
       "      <td>98.976522</td>\n",
       "    </tr>\n",
       "    <tr>\n",
       "      <th>NEE</th>\n",
       "      <td>76.59</td>\n",
       "      <td>1.000000</td>\n",
       "      <td>76.590000</td>\n",
       "    </tr>\n",
       "    <tr>\n",
       "      <th>SQQQ</th>\n",
       "      <td>54.08</td>\n",
       "      <td>1.108270</td>\n",
       "      <td>59.935242</td>\n",
       "    </tr>\n",
       "    <tr>\n",
       "      <th>KO</th>\n",
       "      <td>59.48</td>\n",
       "      <td>1.000000</td>\n",
       "      <td>59.480000</td>\n",
       "    </tr>\n",
       "    <tr>\n",
       "      <th>HUN</th>\n",
       "      <td>34.92</td>\n",
       "      <td>1.144485</td>\n",
       "      <td>39.965416</td>\n",
       "    </tr>\n",
       "    <tr>\n",
       "      <th>HAL</th>\n",
       "      <td>37.31</td>\n",
       "      <td>1.000000</td>\n",
       "      <td>37.310000</td>\n",
       "    </tr>\n",
       "    <tr>\n",
       "      <th>PSQ</th>\n",
       "      <td>13.62</td>\n",
       "      <td>1.393538</td>\n",
       "      <td>18.979988</td>\n",
       "    </tr>\n",
       "    <tr>\n",
       "      <th>AAPL</th>\n",
       "      <td>156.57</td>\n",
       "      <td>0.108477</td>\n",
       "      <td>16.984244</td>\n",
       "    </tr>\n",
       "  </tbody>\n",
       "</table>\n",
       "</div>"
      ],
      "text/plain": [
       "      AVERPRICE  STOCKNUM  HOLDQUANTITY\n",
       "UNH      536.38  0.316620    169.828636\n",
       "DVN       64.15  1.542892     98.976522\n",
       "NEE       76.59  1.000000     76.590000\n",
       "SQQQ      54.08  1.108270     59.935242\n",
       "KO        59.48  1.000000     59.480000\n",
       "HUN       34.92  1.144485     39.965416\n",
       "HAL       37.31  1.000000     37.310000\n",
       "PSQ       13.62  1.393538     18.979988\n",
       "AAPL     156.57  0.108477     16.984244"
      ]
     },
     "execution_count": 23,
     "metadata": {},
     "output_type": "execute_result"
    },
    {
     "data": {
      "image/png": "[encoded data removed]",
      "text/plain": [
       "<Figure size 432x288 with 1 Axes>"
      ]
     },
     "metadata": {},
     "output_type": "display_data"
    }
   ],
   "source": [
    "portfolio={\n",
    "    'KO':[59.48,1],\n",
    "    'HUN':[34.92,1.144485],\n",
    "    'NEE':[76.59,1],\n",
    "    'UNH':[536.38,0.31662],\n",
    "    'HAL':[37.31,1],\n",
    "    'DVN':[64.15,1.542892],\n",
    "    'AAPL':[156.57,0.108477],\n",
    "    'PSQ':[13.62,1.393538],\n",
    "    'SQQQ':[54.08,1.10827]\n",
    "}\n",
    "\n",
    "enddate='2022-06-04'\n",
    "\n",
    "def portfolio_summary(company,value):\n",
    "    portfolio_dataf=pd.DataFrame(index=company, data=value, columns=['AVERPRICE','STOCKNUM'])\n",
    "    portfolio_dataf[\"HOLDQUANTITY\"]=portfolio_dataf[\"AVERPRICE\"]*portfolio_dataf[\"STOCKNUM\"]\n",
    "    portfolio_dataf_sort=portfolio_dataf.sort_values(\"HOLDQUANTITY\",ascending=False)\n",
    "    portfolio_plot=plt.pie(portfolio_dataf[\"HOLDQUANTITY\"],labels=company,autopct='%.1f%%',startangle=90)    \n",
    "    return(portfolio_dataf_sort)\n",
    "    return(portfolio_plot)\n",
    "\n",
    "portfolio_summary(list(portfolio.keys()),list(portfolio.values())) #회사 리스트,회사 정보"
   ]
  },
  {
   "cell_type": "code",
   "execution_count": 3,
   "id": "c71d8db8",
   "metadata": {
    "scrolled": true
   },
   "outputs": [
    {
     "data": {
      "text/plain": [
       "DVN     15.448165\n",
       "HAL      8.523189\n",
       "SQQQ     4.511835\n",
       "PSQ      3.597648\n",
       "KO       3.244788\n",
       "NEE     -0.887840\n",
       "HUN     -3.608248\n",
       "UNH     -9.648010\n",
       "AAPL   -12.416169\n",
       "dtype: float64"
      ]
     },
     "execution_count": 3,
     "metadata": {},
     "output_type": "execute_result"
    }
   ],
   "source": [
    "def holds_dataframing(company,date): #수익률 데이터화\n",
    "    downloadf=yf.download(company,start='2022-03-01',end=date,progress=False,group_by='ticker')\n",
    "    freeset={}\n",
    "    for cmp in company:\n",
    "        profit_per=(downloadf[cmp]['Adj Close'][-1]/portfolio[cmp][0]-1)*100\n",
    "        freeset[cmp]=profit_per\n",
    "    profit_dataf=pd.Series(freeset).sort_values(ascending=False)\n",
    "    return(profit_dataf)\n",
    "\n",
    "holds_dataframing(list(portfolio.keys()),'2022-06-11') #회사 리스트,날짜"
   ]
  },
  {
   "cell_type": "markdown",
   "id": "f9f83418",
   "metadata": {},
   "source": [
    "### 제무제표 비교"
   ]
  },
  {
   "cell_type": "code",
   "execution_count": 9,
   "id": "42f43818",
   "metadata": {},
   "outputs": [
    {
     "data": {
      "text/html": [
       "<div>\n",
       "<style scoped>\n",
       "    .dataframe tbody tr th:only-of-type {\n",
       "        vertical-align: middle;\n",
       "    }\n",
       "\n",
       "    .dataframe tbody tr th {\n",
       "        vertical-align: top;\n",
       "    }\n",
       "\n",
       "    .dataframe thead th {\n",
       "        text-align: right;\n",
       "    }\n",
       "</style>\n",
       "<table border=\"1\" class=\"dataframe\">\n",
       "  <thead>\n",
       "    <tr style=\"text-align: right;\">\n",
       "      <th></th>\n",
       "      <th>PER</th>\n",
       "      <th>FPER</th>\n",
       "      <th>PBR</th>\n",
       "      <th>PEGR</th>\n",
       "      <th>EV/EB</th>\n",
       "      <th>ROE</th>\n",
       "      <th>EPS</th>\n",
       "      <th>CPS</th>\n",
       "    </tr>\n",
       "  </thead>\n",
       "  <tbody>\n",
       "    <tr>\n",
       "      <th>DVN</th>\n",
       "      <td>2.932673</td>\n",
       "      <td>11.093690</td>\n",
       "      <td>4.401456</td>\n",
       "      <td>0.43</td>\n",
       "      <td>7.888</td>\n",
       "      <td>0.45627</td>\n",
       "      <td>19.784</td>\n",
       "      <td>3.160</td>\n",
       "    </tr>\n",
       "    <tr>\n",
       "      <th>HUN</th>\n",
       "      <td>0.682833</td>\n",
       "      <td>7.447368</td>\n",
       "      <td>1.625316</td>\n",
       "      <td>0.66</td>\n",
       "      <td>6.806</td>\n",
       "      <td>0.30070</td>\n",
       "      <td>41.445</td>\n",
       "      <td>3.843</td>\n",
       "    </tr>\n",
       "    <tr>\n",
       "      <th>UNH</th>\n",
       "      <td>1.431535</td>\n",
       "      <td>20.880370</td>\n",
       "      <td>6.059379</td>\n",
       "      <td>1.51</td>\n",
       "      <td>19.165</td>\n",
       "      <td>0.24154</td>\n",
       "      <td>315.787</td>\n",
       "      <td>29.765</td>\n",
       "    </tr>\n",
       "    <tr>\n",
       "      <th>NEE</th>\n",
       "      <td>8.564344</td>\n",
       "      <td>25.843065</td>\n",
       "      <td>3.791091</td>\n",
       "      <td>2.74</td>\n",
       "      <td>34.207</td>\n",
       "      <td>0.01414</td>\n",
       "      <td>8.268</td>\n",
       "      <td>0.752</td>\n",
       "    </tr>\n",
       "    <tr>\n",
       "      <th>KO</th>\n",
       "      <td>6.399957</td>\n",
       "      <td>24.456789</td>\n",
       "      <td>11.573515</td>\n",
       "      <td>3.97</td>\n",
       "      <td>23.509</td>\n",
       "      <td>0.42064</td>\n",
       "      <td>9.286</td>\n",
       "      <td>2.391</td>\n",
       "    </tr>\n",
       "  </tbody>\n",
       "</table>\n",
       "</div>"
      ],
      "text/plain": [
       "          PER       FPER        PBR  PEGR   EV/EB      ROE      EPS     CPS\n",
       "DVN  2.932673  11.093690   4.401456  0.43   7.888  0.45627   19.784   3.160\n",
       "HUN  0.682833   7.447368   1.625316  0.66   6.806  0.30070   41.445   3.843\n",
       "UNH  1.431535  20.880370   6.059379  1.51  19.165  0.24154  315.787  29.765\n",
       "NEE  8.564344  25.843065   3.791091  2.74  34.207  0.01414    8.268   0.752\n",
       "KO   6.399957  24.456789  11.573515  3.97  23.509  0.42064    9.286   2.391"
      ]
     },
     "execution_count": 9,
     "metadata": {},
     "output_type": "execute_result"
    }
   ],
   "source": [
    "search= ['MTR','CVI','PBF','BPT','PVL','DK']\n",
    "holding = ['KO','HUN','NEE','UNH','DVN']\n",
    "view=['HUN','MU','NRG','MPC','GOOG','SNPS','MSFT']\n",
    "\n",
    "def financial_comparison(tickerlist):\n",
    "    freeset={}\n",
    "    for ticker in tickerlist:\n",
    "        ticker_yf=yf.Ticker(ticker)\n",
    "        freeset[ticker]=[ticker_yf.info[\"currentPrice\"]/ticker_yf.info[\"revenuePerShare\"],\n",
    "                         ticker_yf.info[\"forwardPE\"],\n",
    "                         ticker_yf.info[\"priceToBook\"],\n",
    "                         ticker_yf.info[\"pegRatio\"],\n",
    "                         ticker_yf.info[\"enterpriseToEbitda\"],\n",
    "                         ticker_yf.info[\"returnOnEquity\"],\n",
    "                         ticker_yf.info[\"revenuePerShare\"],\n",
    "                         ticker_yf.info[\"totalCashPerShare\"]]\n",
    "    df=pd.DataFrame(data=freeset.values(),index=freeset.keys(),columns=['PER','FPER','PBR','PEGR','EV/EB','ROE','EPS','CPS'])\n",
    "    df_sort=df.sort_values('PEGR',ascending=True)\n",
    "    return(df_sort)\n",
    "\n",
    "financial_comparison(holding)"
   ]
  },
  {
   "cell_type": "markdown",
   "id": "1e8b9c29",
   "metadata": {},
   "source": [
    "### 종목 가져오기"
   ]
  },
  {
   "cell_type": "code",
   "execution_count": 20,
   "id": "c44f634e",
   "metadata": {},
   "outputs": [
    {
     "name": "stderr",
     "output_type": "stream",
     "text": [
      "100%|█████████████████████████████████████████████████████████████████████████████| 3432/3432 [00:08<00:00, 402.56it/s]"
     ]
    },
    {
     "name": "stdout",
     "output_type": "stream",
     "text": [
      "['가정용품', '개인, 가정 용품 및 서비스', '건설 및 엔지니어링', '건설장비 및 대형차, 기차, 배', '건축 자재', '교육서비스', '기타 금융업', '다양한 금융서비스', '다양한 산업재 도매업', '다양한 소매업', '레저 상품', '메탈&마이닝', '미디어 및 출판', '반도체 및 반도체 장비', '보험', '복합 기업', '복합 유틸리티', '부동산 운영 관리', '비즈니스교육', '사무기기', '생명과학 및 메디컬 리서치', '석유', '섬유 및 의류', '소프트웨어 및 IT서비스', '수도 유틸리티', '식품 및 담배', '식품 및 약품소매', '오일 및 가스', '오일 및 가스 장비 및 서비스', '용기 및 포장', '우라늄', '우주항공 및 국방', '운송 인프라', '운송업', '은행', '음료', '자동차 및 자동차 부품', '재생에너지', '전기 유틸리티', '전문 및 상업 서비스', '전문품 상점', '전자 장비 및 부품', '제약', '종이 및 임산물', '주택 및 상업용 리츠', '주택건설', '천연가스 유틸리티', '커뮤니케이션 및 네트워킹', '컴퓨터, 전화 및 가전제품', '통신 서비스', '통합 하드웨어 및 소프트웨어', '투자은행 및 서비스', '핀테크', '학교', '헬스케어 업체 및 서비스', '헬스케어 장비 및 용품', '호텔 및 엔터테인먼트', '화물 및 물류 서비스', '화학']\n"
     ]
    },
    {
     "name": "stderr",
     "output_type": "stream",
     "text": [
      "\n"
     ]
    }
   ],
   "source": [
    "nyse=fdr.StockListing('NYSE')\n",
    "nyse_industry=dict(list(nyse.groupby('Industry')))\n",
    "print(list(nyse_industry.keys()))"
   ]
  },
  {
   "cell_type": "code",
   "execution_count": 12,
   "id": "387f7e62",
   "metadata": {},
   "outputs": [
    {
     "name": "stderr",
     "output_type": "stream",
     "text": [
      "100%|█████████████████████████████████████████████████████████████████████████████| 3432/3432 [00:07<00:00, 487.66it/s]\n"
     ]
    },
    {
     "name": "stdout",
     "output_type": "stream",
     "text": [
      "\n",
      "9 Failed downloads:\n",
      "- XEC: No data found, symbol may be delisted\n",
      "- PBR.A: No data found, symbol may be delisted\n",
      "- GLP PR A: No data found, symbol may be delisted\n",
      "- COG: No data found, symbol may be delisted\n",
      "- SHEL WI: No data found, symbol may be delisted\n",
      "- NGL PR B: No data found, symbol may be delisted\n",
      "- GLP PR B: No data found, symbol may be delisted\n",
      "- NGL PR C: No data found, symbol may be delisted\n",
      "- BTE: No data found, symbol may be delisted\n"
     ]
    },
    {
     "ename": "KeyError",
     "evalue": "'enterpriseValue'",
     "output_type": "error",
     "traceback": [
      "\u001b[1;31m---------------------------------------------------------------------------\u001b[0m",
      "\u001b[1;31mKeyError\u001b[0m                                  Traceback (most recent call last)",
      "\u001b[1;32m~\\AppData\\Local\\Temp/ipykernel_7912/3411143691.py\u001b[0m in \u001b[0;36m<module>\u001b[1;34m\u001b[0m\n\u001b[0;32m     13\u001b[0m     \u001b[1;32mreturn\u001b[0m\u001b[1;33m(\u001b[0m\u001b[0mprofit_dataf\u001b[0m\u001b[1;33m)\u001b[0m\u001b[1;33m\u001b[0m\u001b[1;33m\u001b[0m\u001b[0m\n\u001b[0;32m     14\u001b[0m \u001b[1;33m\u001b[0m\u001b[0m\n\u001b[1;32m---> 15\u001b[1;33m \u001b[0msearch_dataframing\u001b[0m\u001b[1;33m(\u001b[0m\u001b[1;34m'NYSE'\u001b[0m\u001b[1;33m,\u001b[0m\u001b[1;34m'오일 및 가스'\u001b[0m\u001b[1;33m,\u001b[0m\u001b[1;34m'2022-06-18'\u001b[0m\u001b[1;33m)\u001b[0m\u001b[1;33m\u001b[0m\u001b[1;33m\u001b[0m\u001b[0m\n\u001b[0m\u001b[0;32m     16\u001b[0m \u001b[0msearch_dataframing\u001b[0m\u001b[1;33m(\u001b[0m\u001b[1;34m'NASDAQ'\u001b[0m\u001b[1;33m,\u001b[0m\u001b[1;34m'재생에너지'\u001b[0m\u001b[1;33m,\u001b[0m\u001b[1;34m'2022-06-18'\u001b[0m\u001b[1;33m)\u001b[0m\u001b[1;33m\u001b[0m\u001b[1;33m\u001b[0m\u001b[0m\n",
      "\u001b[1;32m~\\AppData\\Local\\Temp/ipykernel_7912/3411143691.py\u001b[0m in \u001b[0;36msearch_dataframing\u001b[1;34m(index, sector, date)\u001b[0m\n\u001b[0;32m      8\u001b[0m         \u001b[0mticker_yf\u001b[0m\u001b[1;33m=\u001b[0m\u001b[0myf\u001b[0m\u001b[1;33m.\u001b[0m\u001b[0mTicker\u001b[0m\u001b[1;33m(\u001b[0m\u001b[0mticker\u001b[0m\u001b[1;33m)\u001b[0m\u001b[1;33m\u001b[0m\u001b[1;33m\u001b[0m\u001b[0m\n\u001b[0;32m      9\u001b[0m         \u001b[0mprofit_per\u001b[0m\u001b[1;33m=\u001b[0m\u001b[1;33m(\u001b[0m\u001b[0mdownloadf\u001b[0m\u001b[1;33m[\u001b[0m\u001b[0mticker\u001b[0m\u001b[1;33m]\u001b[0m\u001b[1;33m[\u001b[0m\u001b[1;34m'Adj Close'\u001b[0m\u001b[1;33m]\u001b[0m\u001b[1;33m[\u001b[0m\u001b[1;33m-\u001b[0m\u001b[1;36m1\u001b[0m\u001b[1;33m]\u001b[0m\u001b[1;33m/\u001b[0m\u001b[0mdownloadf\u001b[0m\u001b[1;33m[\u001b[0m\u001b[0mticker\u001b[0m\u001b[1;33m]\u001b[0m\u001b[1;33m[\u001b[0m\u001b[1;34m'Adj Close'\u001b[0m\u001b[1;33m]\u001b[0m\u001b[1;33m[\u001b[0m\u001b[1;36m0\u001b[0m\u001b[1;33m]\u001b[0m\u001b[1;33m-\u001b[0m\u001b[1;36m1\u001b[0m\u001b[1;33m)\u001b[0m\u001b[1;33m*\u001b[0m\u001b[1;36m100\u001b[0m\u001b[1;33m\u001b[0m\u001b[1;33m\u001b[0m\u001b[0m\n\u001b[1;32m---> 10\u001b[1;33m         \u001b[0mfreeset\u001b[0m\u001b[1;33m[\u001b[0m\u001b[0mticker\u001b[0m\u001b[1;33m]\u001b[0m\u001b[1;33m=\u001b[0m\u001b[1;33m[\u001b[0m\u001b[0mprofit_per\u001b[0m\u001b[1;33m,\u001b[0m\u001b[0mticker_yf\u001b[0m\u001b[1;33m.\u001b[0m\u001b[0minfo\u001b[0m\u001b[1;33m[\u001b[0m\u001b[1;34m\"enterpriseValue\"\u001b[0m\u001b[1;33m]\u001b[0m\u001b[1;33m]\u001b[0m\u001b[1;33m\u001b[0m\u001b[1;33m\u001b[0m\u001b[0m\n\u001b[0m\u001b[0;32m     11\u001b[0m     \u001b[0mprofit_dataf\u001b[0m\u001b[1;33m=\u001b[0m\u001b[0mpd\u001b[0m\u001b[1;33m.\u001b[0m\u001b[0mSeries\u001b[0m\u001b[1;33m(\u001b[0m\u001b[0mfreeset\u001b[0m\u001b[1;33m)\u001b[0m\u001b[1;33m.\u001b[0m\u001b[0msort_values\u001b[0m\u001b[1;33m(\u001b[0m\u001b[1;34m\"1\"\u001b[0m\u001b[1;33m,\u001b[0m\u001b[0mascending\u001b[0m\u001b[1;33m=\u001b[0m\u001b[1;32mFalse\u001b[0m\u001b[1;33m)\u001b[0m\u001b[1;33m\u001b[0m\u001b[1;33m\u001b[0m\u001b[0m\n\u001b[0;32m     12\u001b[0m     \u001b[0mprofit_dataf\u001b[0m\u001b[1;33m.\u001b[0m\u001b[0mto_csv\u001b[0m\u001b[1;33m(\u001b[0m\u001b[1;34m\"%s_profit_%s\"\u001b[0m\u001b[1;33m%\u001b[0m\u001b[1;33m(\u001b[0m\u001b[0mindex\u001b[0m\u001b[1;33m,\u001b[0m\u001b[0msector\u001b[0m\u001b[1;33m)\u001b[0m\u001b[1;33m)\u001b[0m\u001b[1;33m\u001b[0m\u001b[1;33m\u001b[0m\u001b[0m\n",
      "\u001b[1;31mKeyError\u001b[0m: 'enterpriseValue'"
     ]
    }
   ],
   "source": [
    "def search_dataframing(index,sector,date): \n",
    "    index_list = fdr.StockListing(index)\n",
    "    industry = dict(list(index_list.groupby('Industry')))\n",
    "    tickers=industry[sector]['Symbol'].values\n",
    "    downloadf=yf.download(list(tickers),start='2022-03-01',end=date,progress=False,group_by='ticker')\n",
    "    freeset={}\n",
    "    for ticker in list(tickers):\n",
    "        profit_per=(downloadf[ticker]['Adj Close'][-1]/downloadf[ticker]['Adj Close'][0]-1)*100\n",
    "    profit_dataf=pd.Series(freeset).sort_values(ascending=False)\n",
    "    profit_dataf.to_csv(\"%s_profit_%s\"%(index,sector))\n",
    "    return(profit_dataf)\n",
    "\n",
    "search_dataframing('NYSE','오일 및 가스','2022-06-18')\n",
    "search_dataframing('NASDAQ','재생에너지','2022-06-18')"
   ]
  }
 ],
 "metadata": {
  "kernelspec": {
   "display_name": "Python 3 (ipykernel)",
   "language": "python",
   "name": "python3"
  },
  "language_info": {
   "codemirror_mode": {
    "name": "ipython",
    "version": 3
   },
   "file_extension": ".py",
   "mimetype": "text/x-python",
   "name": "python",
   "nbconvert_exporter": "python",
   "pygments_lexer": "ipython3",
   "version": "3.9.7"
  }
 },
 "nbformat": 4,
 "nbformat_minor": 5
}
