{
 "cells": [
  {
   "cell_type": "markdown",
   "id": "5d71badf",
   "metadata": {},
   "source": [
    "# US Stock Analysis\n",
    "- 포트폴리오 시각화\n",
    "- 포트폴리오 수익률 분석\n",
    "- 종목 검색\n",
    "- 재무제표 비교"
   ]
  },
  {
   "cell_type": "markdown",
   "id": "e6c4ba99",
   "metadata": {},
   "source": [
    "### 함수 호출"
   ]
  },
  {
   "cell_type": "code",
   "execution_count": 3,
   "id": "4337ffbd",
   "metadata": {},
   "outputs": [],
   "source": [
    "import numpy as np\n",
    "import concurrent.futures\n",
    "from concurrent.futures import ThreadPoolExecutor\n",
    "import pandas as pd\n",
    "import yfinance as yf\n",
    "import FinanceDataReader as fdr\n",
    "import matplotlib.pyplot as plt\n",
    "import seaborn as sns\n",
    "yf.pdr_override()"
   ]
  },
  {
   "cell_type": "markdown",
   "id": "462d22f2",
   "metadata": {},
   "source": [
    "### 데이터 생성 및 시각화"
   ]
  },
  {
   "cell_type": "code",
   "execution_count": 33,
   "id": "b656305c",
   "metadata": {},
   "outputs": [
    {
     "data": {
      "text/html": [
       "<div>\n",
       "<style scoped>\n",
       "    .dataframe tbody tr th:only-of-type {\n",
       "        vertical-align: middle;\n",
       "    }\n",
       "\n",
       "    .dataframe tbody tr th {\n",
       "        vertical-align: top;\n",
       "    }\n",
       "\n",
       "    .dataframe thead th {\n",
       "        text-align: right;\n",
       "    }\n",
       "</style>\n",
       "<table border=\"1\" class=\"dataframe\">\n",
       "  <thead>\n",
       "    <tr style=\"text-align: right;\">\n",
       "      <th></th>\n",
       "      <th>AVERPRICE</th>\n",
       "      <th>STOCKNUM</th>\n",
       "      <th>HOLDQUANTITY</th>\n",
       "    </tr>\n",
       "  </thead>\n",
       "  <tbody>\n",
       "    <tr>\n",
       "      <th>UNH</th>\n",
       "      <td>533.03</td>\n",
       "      <td>0.346899</td>\n",
       "      <td>184.907574</td>\n",
       "    </tr>\n",
       "    <tr>\n",
       "      <th>DVN</th>\n",
       "      <td>62.71</td>\n",
       "      <td>1.881635</td>\n",
       "      <td>117.997331</td>\n",
       "    </tr>\n",
       "    <tr>\n",
       "      <th>KO</th>\n",
       "      <td>59.48</td>\n",
       "      <td>1.000000</td>\n",
       "      <td>59.480000</td>\n",
       "    </tr>\n",
       "    <tr>\n",
       "      <th>SQQQ</th>\n",
       "      <td>55.31</td>\n",
       "      <td>0.915238</td>\n",
       "      <td>50.621814</td>\n",
       "    </tr>\n",
       "    <tr>\n",
       "      <th>HUN</th>\n",
       "      <td>34.92</td>\n",
       "      <td>1.144485</td>\n",
       "      <td>39.965416</td>\n",
       "    </tr>\n",
       "    <tr>\n",
       "      <th>NEE</th>\n",
       "      <td>76.58</td>\n",
       "      <td>0.504387</td>\n",
       "      <td>38.625956</td>\n",
       "    </tr>\n",
       "    <tr>\n",
       "      <th>PSQ</th>\n",
       "      <td>13.62</td>\n",
       "      <td>1.393538</td>\n",
       "      <td>18.979988</td>\n",
       "    </tr>\n",
       "    <tr>\n",
       "      <th>AAPL</th>\n",
       "      <td>156.57</td>\n",
       "      <td>0.108477</td>\n",
       "      <td>16.984244</td>\n",
       "    </tr>\n",
       "  </tbody>\n",
       "</table>\n",
       "</div>"
      ],
      "text/plain": [
       "      AVERPRICE  STOCKNUM  HOLDQUANTITY\n",
       "UNH      533.03  0.346899    184.907574\n",
       "DVN       62.71  1.881635    117.997331\n",
       "KO        59.48  1.000000     59.480000\n",
       "SQQQ      55.31  0.915238     50.621814\n",
       "HUN       34.92  1.144485     39.965416\n",
       "NEE       76.58  0.504387     38.625956\n",
       "PSQ       13.62  1.393538     18.979988\n",
       "AAPL     156.57  0.108477     16.984244"
      ]
     },
     "execution_count": 33,
     "metadata": {},
     "output_type": "execute_result"
    },
    {
     "data": {
      "image/png": "[encoded data removed]",
      "text/plain": [
       "<Figure size 432x288 with 1 Axes>"
      ]
     },
     "metadata": {},
     "output_type": "display_data"
    }
   ],
   "source": [
    "portfolio={\n",
    "    'KO':[59.48,1],\n",
    "    'HUN':[34.92,1.144485],\n",
    "    'NEE':[76.58,0.504387],\n",
    "    'UNH':[533.03,0.346899],\n",
    "    'DVN':[62.71,1.881635],\n",
    "    'AAPL':[156.57,0.108477],\n",
    "    'PSQ':[13.62,1.393538],\n",
    "    'SQQQ':[55.31,0.915238]\n",
    "}\n",
    "\n",
    "enddate='2022-07-17'\n",
    "\n",
    "def portfolio_summary(company,value):\n",
    "    df=pd.DataFrame(index=company, data=value, columns=['AVERPRICE','STOCKNUM'])\n",
    "    df[\"HOLDQUANTITY\"]=df[\"AVERPRICE\"]*df[\"STOCKNUM\"]\n",
    "    df=df.sort_values(\"HOLDQUANTITY\",ascending=False)\n",
    "    df_plot=plt.pie(df[\"HOLDQUANTITY\"],labels=df.index,autopct='%.1f%%',startangle=90)    \n",
    "    return(df)\n",
    "    return(df_plot)\n",
    "\n",
    "portfolio_summary(list(portfolio.keys()),list(portfolio.values())) #회사 리스트,회사 정보"
   ]
  },
  {
   "cell_type": "code",
   "execution_count": 63,
   "id": "c71d8db8",
   "metadata": {
    "scrolled": true
   },
   "outputs": [
    {
     "ename": "KeyError",
     "evalue": "0",
     "output_type": "error",
     "traceback": [
      "\u001b[1;31m---------------------------------------------------------------------------\u001b[0m",
      "\u001b[1;31mKeyError\u001b[0m                                  Traceback (most recent call last)",
      "\u001b[1;32m~\\anaconda3\\lib\\site-packages\\pandas\\core\\indexes\\base.py\u001b[0m in \u001b[0;36mget_loc\u001b[1;34m(self, key, method, tolerance)\u001b[0m\n\u001b[0;32m   3360\u001b[0m             \u001b[1;32mtry\u001b[0m\u001b[1;33m:\u001b[0m\u001b[1;33m\u001b[0m\u001b[1;33m\u001b[0m\u001b[0m\n\u001b[1;32m-> 3361\u001b[1;33m                 \u001b[1;32mreturn\u001b[0m \u001b[0mself\u001b[0m\u001b[1;33m.\u001b[0m\u001b[0m_engine\u001b[0m\u001b[1;33m.\u001b[0m\u001b[0mget_loc\u001b[0m\u001b[1;33m(\u001b[0m\u001b[0mcasted_key\u001b[0m\u001b[1;33m)\u001b[0m\u001b[1;33m\u001b[0m\u001b[1;33m\u001b[0m\u001b[0m\n\u001b[0m\u001b[0;32m   3362\u001b[0m             \u001b[1;32mexcept\u001b[0m \u001b[0mKeyError\u001b[0m \u001b[1;32mas\u001b[0m \u001b[0merr\u001b[0m\u001b[1;33m:\u001b[0m\u001b[1;33m\u001b[0m\u001b[1;33m\u001b[0m\u001b[0m\n",
      "\u001b[1;32m~\\anaconda3\\lib\\site-packages\\pandas\\_libs\\index.pyx\u001b[0m in \u001b[0;36mpandas._libs.index.IndexEngine.get_loc\u001b[1;34m()\u001b[0m\n",
      "\u001b[1;32m~\\anaconda3\\lib\\site-packages\\pandas\\_libs\\index.pyx\u001b[0m in \u001b[0;36mpandas._libs.index.IndexEngine.get_loc\u001b[1;34m()\u001b[0m\n",
      "\u001b[1;32mpandas\\_libs\\hashtable_class_helper.pxi\u001b[0m in \u001b[0;36mpandas._libs.hashtable.PyObjectHashTable.get_item\u001b[1;34m()\u001b[0m\n",
      "\u001b[1;32mpandas\\_libs\\hashtable_class_helper.pxi\u001b[0m in \u001b[0;36mpandas._libs.hashtable.PyObjectHashTable.get_item\u001b[1;34m()\u001b[0m\n",
      "\u001b[1;31mKeyError\u001b[0m: 0",
      "\nThe above exception was the direct cause of the following exception:\n",
      "\u001b[1;31mKeyError\u001b[0m                                  Traceback (most recent call last)",
      "\u001b[1;32m~\\AppData\\Local\\Temp/ipykernel_13272/760104587.py\u001b[0m in \u001b[0;36m<module>\u001b[1;34m\u001b[0m\n\u001b[0;32m      6\u001b[0m     \u001b[1;32mreturn\u001b[0m\u001b[1;33m(\u001b[0m\u001b[0mdf\u001b[0m\u001b[1;33m)\u001b[0m\u001b[1;33m\u001b[0m\u001b[1;33m\u001b[0m\u001b[0m\n\u001b[0;32m      7\u001b[0m \u001b[1;33m\u001b[0m\u001b[0m\n\u001b[1;32m----> 8\u001b[1;33m \u001b[0mholds_dataframing\u001b[0m\u001b[1;33m(\u001b[0m\u001b[0mlist\u001b[0m\u001b[1;33m(\u001b[0m\u001b[0mportfolio\u001b[0m\u001b[1;33m.\u001b[0m\u001b[0mkeys\u001b[0m\u001b[1;33m(\u001b[0m\u001b[1;33m)\u001b[0m\u001b[1;33m)\u001b[0m\u001b[1;33m,\u001b[0m\u001b[1;34m'2022-07-17'\u001b[0m\u001b[1;33m)\u001b[0m \u001b[1;31m#회사 리스트,날짜\u001b[0m\u001b[1;33m\u001b[0m\u001b[1;33m\u001b[0m\u001b[0m\n\u001b[0m\u001b[0;32m      9\u001b[0m \u001b[1;31m# np1=np.array(portfolio.values())\u001b[0m\u001b[1;33m\u001b[0m\u001b[1;33m\u001b[0m\u001b[0m\n",
      "\u001b[1;32m~\\AppData\\Local\\Temp/ipykernel_13272/760104587.py\u001b[0m in \u001b[0;36mholds_dataframing\u001b[1;34m(company, date)\u001b[0m\n\u001b[0;32m      2\u001b[0m     \u001b[0mdata\u001b[0m\u001b[1;33m=\u001b[0m\u001b[0myf\u001b[0m\u001b[1;33m.\u001b[0m\u001b[0mdownload\u001b[0m\u001b[1;33m(\u001b[0m\u001b[0mcompany\u001b[0m\u001b[1;33m,\u001b[0m\u001b[0mstart\u001b[0m\u001b[1;33m=\u001b[0m\u001b[1;34m'2022-03-01'\u001b[0m\u001b[1;33m,\u001b[0m\u001b[0mend\u001b[0m\u001b[1;33m=\u001b[0m\u001b[0mdate\u001b[0m\u001b[1;33m,\u001b[0m\u001b[0mprogress\u001b[0m\u001b[1;33m=\u001b[0m\u001b[1;32mFalse\u001b[0m\u001b[1;33m)\u001b[0m\u001b[1;33m\u001b[0m\u001b[1;33m\u001b[0m\u001b[0m\n\u001b[0;32m      3\u001b[0m     \u001b[1;32mfor\u001b[0m \u001b[0mi\u001b[0m \u001b[1;32min\u001b[0m \u001b[0mrange\u001b[0m\u001b[1;33m(\u001b[0m\u001b[1;36m0\u001b[0m\u001b[1;33m,\u001b[0m\u001b[0mlen\u001b[0m\u001b[1;33m(\u001b[0m\u001b[0mportfolio\u001b[0m\u001b[1;33m.\u001b[0m\u001b[0mkeys\u001b[0m\u001b[1;33m(\u001b[0m\u001b[1;33m)\u001b[0m\u001b[1;33m)\u001b[0m\u001b[1;33m)\u001b[0m\u001b[1;33m:\u001b[0m\u001b[1;33m\u001b[0m\u001b[1;33m\u001b[0m\u001b[0m\n\u001b[1;32m----> 4\u001b[1;33m         \u001b[0mdata_redu\u001b[0m\u001b[1;33m=\u001b[0m\u001b[1;33m(\u001b[0m\u001b[0mdata\u001b[0m\u001b[1;33m[\u001b[0m\u001b[1;34m'Adj Close'\u001b[0m\u001b[1;33m]\u001b[0m\u001b[1;33m[\u001b[0m\u001b[0mi\u001b[0m\u001b[1;33m]\u001b[0m\u001b[1;33m.\u001b[0m\u001b[0miloc\u001b[0m\u001b[1;33m[\u001b[0m\u001b[1;33m-\u001b[0m\u001b[1;36m1\u001b[0m\u001b[1;33m]\u001b[0m\u001b[1;33m/\u001b[0m\u001b[0mportfolio\u001b[0m\u001b[1;33m.\u001b[0m\u001b[0mvalues\u001b[0m\u001b[1;33m(\u001b[0m\u001b[1;33m)\u001b[0m\u001b[1;33m[\u001b[0m\u001b[0mi\u001b[0m\u001b[1;33m]\u001b[0m\u001b[1;33m[\u001b[0m\u001b[1;36m0\u001b[0m\u001b[1;33m]\u001b[0m\u001b[1;33m-\u001b[0m\u001b[1;36m1\u001b[0m\u001b[1;33m)\u001b[0m\u001b[1;33m*\u001b[0m\u001b[1;36m100\u001b[0m\u001b[1;33m\u001b[0m\u001b[1;33m\u001b[0m\u001b[0m\n\u001b[0m\u001b[0;32m      5\u001b[0m         \u001b[0mdf\u001b[0m\u001b[1;33m=\u001b[0m\u001b[0mpd\u001b[0m\u001b[1;33m.\u001b[0m\u001b[0mSeries\u001b[0m\u001b[1;33m(\u001b[0m\u001b[0mdata_redu\u001b[0m\u001b[1;33m)\u001b[0m\u001b[1;33m.\u001b[0m\u001b[0msort_values\u001b[0m\u001b[1;33m(\u001b[0m\u001b[0mascending\u001b[0m\u001b[1;33m=\u001b[0m\u001b[1;32mFalse\u001b[0m\u001b[1;33m)\u001b[0m\u001b[1;33m\u001b[0m\u001b[1;33m\u001b[0m\u001b[0m\n\u001b[0;32m      6\u001b[0m     \u001b[1;32mreturn\u001b[0m\u001b[1;33m(\u001b[0m\u001b[0mdf\u001b[0m\u001b[1;33m)\u001b[0m\u001b[1;33m\u001b[0m\u001b[1;33m\u001b[0m\u001b[0m\n",
      "\u001b[1;32m~\\anaconda3\\lib\\site-packages\\pandas\\core\\frame.py\u001b[0m in \u001b[0;36m__getitem__\u001b[1;34m(self, key)\u001b[0m\n\u001b[0;32m   3456\u001b[0m             \u001b[1;32mif\u001b[0m \u001b[0mself\u001b[0m\u001b[1;33m.\u001b[0m\u001b[0mcolumns\u001b[0m\u001b[1;33m.\u001b[0m\u001b[0mnlevels\u001b[0m \u001b[1;33m>\u001b[0m \u001b[1;36m1\u001b[0m\u001b[1;33m:\u001b[0m\u001b[1;33m\u001b[0m\u001b[1;33m\u001b[0m\u001b[0m\n\u001b[0;32m   3457\u001b[0m                 \u001b[1;32mreturn\u001b[0m \u001b[0mself\u001b[0m\u001b[1;33m.\u001b[0m\u001b[0m_getitem_multilevel\u001b[0m\u001b[1;33m(\u001b[0m\u001b[0mkey\u001b[0m\u001b[1;33m)\u001b[0m\u001b[1;33m\u001b[0m\u001b[1;33m\u001b[0m\u001b[0m\n\u001b[1;32m-> 3458\u001b[1;33m             \u001b[0mindexer\u001b[0m \u001b[1;33m=\u001b[0m \u001b[0mself\u001b[0m\u001b[1;33m.\u001b[0m\u001b[0mcolumns\u001b[0m\u001b[1;33m.\u001b[0m\u001b[0mget_loc\u001b[0m\u001b[1;33m(\u001b[0m\u001b[0mkey\u001b[0m\u001b[1;33m)\u001b[0m\u001b[1;33m\u001b[0m\u001b[1;33m\u001b[0m\u001b[0m\n\u001b[0m\u001b[0;32m   3459\u001b[0m             \u001b[1;32mif\u001b[0m \u001b[0mis_integer\u001b[0m\u001b[1;33m(\u001b[0m\u001b[0mindexer\u001b[0m\u001b[1;33m)\u001b[0m\u001b[1;33m:\u001b[0m\u001b[1;33m\u001b[0m\u001b[1;33m\u001b[0m\u001b[0m\n\u001b[0;32m   3460\u001b[0m                 \u001b[0mindexer\u001b[0m \u001b[1;33m=\u001b[0m \u001b[1;33m[\u001b[0m\u001b[0mindexer\u001b[0m\u001b[1;33m]\u001b[0m\u001b[1;33m\u001b[0m\u001b[1;33m\u001b[0m\u001b[0m\n",
      "\u001b[1;32m~\\anaconda3\\lib\\site-packages\\pandas\\core\\indexes\\base.py\u001b[0m in \u001b[0;36mget_loc\u001b[1;34m(self, key, method, tolerance)\u001b[0m\n\u001b[0;32m   3361\u001b[0m                 \u001b[1;32mreturn\u001b[0m \u001b[0mself\u001b[0m\u001b[1;33m.\u001b[0m\u001b[0m_engine\u001b[0m\u001b[1;33m.\u001b[0m\u001b[0mget_loc\u001b[0m\u001b[1;33m(\u001b[0m\u001b[0mcasted_key\u001b[0m\u001b[1;33m)\u001b[0m\u001b[1;33m\u001b[0m\u001b[1;33m\u001b[0m\u001b[0m\n\u001b[0;32m   3362\u001b[0m             \u001b[1;32mexcept\u001b[0m \u001b[0mKeyError\u001b[0m \u001b[1;32mas\u001b[0m \u001b[0merr\u001b[0m\u001b[1;33m:\u001b[0m\u001b[1;33m\u001b[0m\u001b[1;33m\u001b[0m\u001b[0m\n\u001b[1;32m-> 3363\u001b[1;33m                 \u001b[1;32mraise\u001b[0m \u001b[0mKeyError\u001b[0m\u001b[1;33m(\u001b[0m\u001b[0mkey\u001b[0m\u001b[1;33m)\u001b[0m \u001b[1;32mfrom\u001b[0m \u001b[0merr\u001b[0m\u001b[1;33m\u001b[0m\u001b[1;33m\u001b[0m\u001b[0m\n\u001b[0m\u001b[0;32m   3364\u001b[0m \u001b[1;33m\u001b[0m\u001b[0m\n\u001b[0;32m   3365\u001b[0m         \u001b[1;32mif\u001b[0m \u001b[0mis_scalar\u001b[0m\u001b[1;33m(\u001b[0m\u001b[0mkey\u001b[0m\u001b[1;33m)\u001b[0m \u001b[1;32mand\u001b[0m \u001b[0misna\u001b[0m\u001b[1;33m(\u001b[0m\u001b[0mkey\u001b[0m\u001b[1;33m)\u001b[0m \u001b[1;32mand\u001b[0m \u001b[1;32mnot\u001b[0m \u001b[0mself\u001b[0m\u001b[1;33m.\u001b[0m\u001b[0mhasnans\u001b[0m\u001b[1;33m:\u001b[0m\u001b[1;33m\u001b[0m\u001b[1;33m\u001b[0m\u001b[0m\n",
      "\u001b[1;31mKeyError\u001b[0m: 0"
     ]
    }
   ],
   "source": [
    "def holds_dataframing(company,date): #수익률 데이터화\n",
    "    data=yf.download(company,start='2022-03-01',end=date,progress=False)\n",
    "    for i in range(0,len(portfolio.keys())):\n",
    "        data_redu=(data['Adj Close'][i].iloc[-1]/portfolio.values()[i][0]-1)*100\n",
    "        df=pd.Series(data_redu).sort_values(ascending=False)\n",
    "    return(df)\n",
    "\n",
    "holds_dataframing(list(portfolio.keys()),'2022-07-17') #회사 리스트,날짜\n",
    "# np1=np.array(portfolio.values())"
   ]
  },
  {
   "cell_type": "markdown",
   "id": "1e8b9c29",
   "metadata": {},
   "source": [
    "### 종목 가져오기"
   ]
  },
  {
   "cell_type": "code",
   "execution_count": 64,
   "id": "387f7e62",
   "metadata": {},
   "outputs": [
    {
     "name": "stderr",
     "output_type": "stream",
     "text": [
      "\n",
      "  0%|                                                                                         | 0/3421 [00:00<?, ?it/s]\u001b[A\n",
      "  4%|██▋                                                                           | 120/3421 [00:00<00:03, 921.68it/s]\u001b[A\n",
      "  7%|█████▍                                                                        | 240/3421 [00:00<00:03, 950.43it/s]\u001b[A\n",
      " 11%|████████                                                                     | 360/3421 [00:00<00:02, 1022.53it/s]\u001b[A\n",
      " 14%|██████████▉                                                                   | 480/3421 [00:00<00:03, 867.07it/s]\u001b[A\n",
      " 18%|█████████████▋                                                                | 600/3421 [00:00<00:03, 752.23it/s]\u001b[A\n",
      " 21%|████████████████▍                                                             | 720/3421 [00:00<00:03, 687.30it/s]\u001b[A\n",
      " 25%|███████████████████▏                                                          | 840/3421 [00:01<00:04, 616.42it/s]\u001b[A\n",
      " 28%|█████████████████████▉                                                        | 960/3421 [00:01<00:03, 666.03it/s]\u001b[A\n",
      " 32%|████████████████████████▎                                                    | 1080/3421 [00:01<00:03, 634.67it/s]\u001b[A\n",
      " 35%|███████████████████████████                                                  | 1200/3421 [00:01<00:03, 611.70it/s]\u001b[A\n",
      " 39%|█████████████████████████████▋                                               | 1320/3421 [00:01<00:03, 571.41it/s]\u001b[A\n",
      " 40%|███████████████████████████████                                              | 1380/3421 [00:02<00:03, 568.58it/s]\u001b[A\n",
      " 42%|████████████████████████████████▍                                            | 1440/3421 [00:02<00:03, 568.59it/s]\u001b[A\n",
      " 44%|█████████████████████████████████▊                                           | 1500/3421 [00:02<00:03, 537.99it/s]\u001b[A\n",
      " 46%|███████████████████████████████████                                          | 1560/3421 [00:02<00:03, 519.68it/s]\u001b[A\n",
      " 47%|████████████████████████████████████▍                                        | 1620/3421 [00:02<00:03, 508.38it/s]\u001b[A\n",
      " 49%|█████████████████████████████████████▊                                       | 1680/3421 [00:02<00:03, 505.38it/s]\u001b[A\n",
      " 51%|███████████████████████████████████████▏                                     | 1740/3421 [00:02<00:03, 505.39it/s]\u001b[A\n",
      " 53%|████████████████████████████████████████▌                                    | 1800/3421 [00:02<00:03, 471.09it/s]\u001b[A\n",
      " 54%|█████████████████████████████████████████▊                                   | 1860/3421 [00:03<00:03, 439.03it/s]\u001b[A\n",
      " 56%|███████████████████████████████████████████▏                                 | 1920/3421 [00:03<00:03, 430.22it/s]\u001b[A\n",
      " 58%|████████████████████████████████████████████▌                                | 1980/3421 [00:03<00:03, 419.42it/s]\u001b[A\n",
      " 60%|█████████████████████████████████████████████▉                               | 2040/3421 [00:03<00:03, 393.46it/s]\u001b[A\n",
      " 61%|███████████████████████████████████████████████▎                             | 2100/3421 [00:03<00:03, 385.78it/s]\u001b[A\n",
      " 65%|█████████████████████████████████████████████████▉                           | 2220/3421 [00:03<00:02, 435.47it/s]\u001b[A\n",
      " 67%|███████████████████████████████████████████████████▎                         | 2280/3421 [00:04<00:02, 412.59it/s]\u001b[A\n",
      " 68%|████████████████████████████████████████████████████▋                        | 2340/3421 [00:04<00:02, 404.10it/s]\u001b[A\n",
      " 70%|██████████████████████████████████████████████████████                       | 2400/3421 [00:04<00:02, 397.01it/s]\u001b[A\n",
      " 72%|███████████████████████████████████████████████████████▎                     | 2460/3421 [00:04<00:02, 386.73it/s]\u001b[A\n",
      " 74%|████████████████████████████████████████████████████████▋                    | 2520/3421 [00:04<00:02, 376.78it/s]\u001b[A\n",
      " 75%|██████████████████████████████████████████████████████████                   | 2580/3421 [00:04<00:02, 373.92it/s]\u001b[A\n",
      " 77%|███████████████████████████████████████████████████████████▍                 | 2640/3421 [00:05<00:02, 374.12it/s]\u001b[A\n",
      " 79%|████████████████████████████████████████████████████████████▊                | 2700/3421 [00:05<00:01, 373.69it/s]\u001b[A\n",
      " 81%|██████████████████████████████████████████████████████████████               | 2760/3421 [00:05<00:01, 357.93it/s]\u001b[A\n",
      " 82%|███████████████████████████████████████████████████████████████▍             | 2820/3421 [00:05<00:01, 357.03it/s]\u001b[A\n",
      " 84%|████████████████████████████████████████████████████████████████▊            | 2880/3421 [00:05<00:01, 348.19it/s]\u001b[A\n",
      " 86%|██████████████████████████████████████████████████████████████████▏          | 2940/3421 [00:06<00:01, 341.57it/s]\u001b[A\n",
      " 88%|███████████████████████████████████████████████████████████████████▌         | 3000/3421 [00:06<00:01, 341.54it/s]\u001b[A\n",
      " 89%|████████████████████████████████████████████████████████████████████▊        | 3060/3421 [00:06<00:01, 345.98it/s]\u001b[A\n",
      " 91%|██████████████████████████████████████████████████████████████████████▏      | 3120/3421 [00:06<00:00, 348.02it/s]\u001b[A\n",
      " 93%|███████████████████████████████████████████████████████████████████████▌     | 3180/3421 [00:06<00:00, 356.79it/s]\u001b[A\n",
      " 96%|██████████████████████████████████████████████████████████████████████████▎  | 3300/3421 [00:06<00:00, 412.85it/s]\u001b[A\n",
      " 98%|███████████████████████████████████████████████████████████████████████████▋ | 3360/3421 [00:07<00:00, 388.98it/s]\u001b[A\n",
      "100%|█████████████████████████████████████████████████████████████████████████████| 3421/3421 [00:07<00:00, 460.10it/s]\u001b[A\n"
     ]
    },
    {
     "name": "stdout",
     "output_type": "stream",
     "text": [
      "\n",
      "3 Failed downloads:\n",
      "- MRK WI: No data found, symbol may be delisted\n",
      "- CELG RT: No data found, symbol may be delisted\n",
      "- OGN WI: No data found, symbol may be delisted\n"
     ]
    },
    {
     "data": {
      "text/plain": [
       "LLY        82.489456\n",
       "MRK        19.671356\n",
       "JNJ        14.710754\n",
       "NVO        12.258682\n",
       "ABBV        8.453171\n",
       "BMY         7.953247\n",
       "PRGO        5.720760\n",
       "PFE         5.189701\n",
       "RDY         4.134521\n",
       "CTLT        1.129997\n",
       "NVS         0.694519\n",
       "LCI        -0.237000\n",
       "GSK        -0.274200\n",
       "TAK        -0.720000\n",
       "PBH        -1.029999\n",
       "TEVA       -1.120000\n",
       "AMRX       -1.400000\n",
       "GLS        -1.980000\n",
       "OGN        -5.058172\n",
       "ELAN       -8.330000\n",
       "ELAT      -10.212517\n",
       "EBS       -10.850000\n",
       "TARO      -11.079998\n",
       "BHC       -15.360000\n",
       "ZTS       -18.771530\n",
       "CELG RT          NaN\n",
       "MRK WI           NaN\n",
       "OGN WI           NaN\n",
       "dtype: float64"
      ]
     },
     "execution_count": 64,
     "metadata": {},
     "output_type": "execute_result"
    }
   ],
   "source": [
    "# ['가정용품', '개인, 가정 용품 및 서비스', '건설 및 엔지니어링', '건설장비 및 대형차, 기차, 배',\n",
    "# '건축 자재', '교육서비스', '기타 금융업', '다양한 금융서비스', '다양한 산업재 도매업', '다양한 소매업',\n",
    "# '레저 상품', '메탈&마이닝', '미디어 및 출판', '반도체 및 반도체 장비', '보험', '복합 기업', '복합 유틸리티', '부동산 운영 관리',\n",
    "# '비즈니스교육', '사무기기', '생명과학 및 메디컬 리서치', '석유', '섬유 및 의류', '소프트웨어 및 IT서비스', '수도 유틸리티',\n",
    "# '식품 및 담배', '식품 및 약품소매', '오일 및 가스', '오일 및 가스 장비 및 서비스', '용기 및 포장', '우라늄', '우주항공 및 국방',\n",
    "# '운송 인프라', '운송업', '은행', '음료', '자동차 및 자동차 부품', '재생에너지', '전기 유틸리티', '전문 및 상업 서비스', '전문품 상점',\n",
    "# '전자 장비 및 부품', '제약', '종이 및 임산물', '주택 및 상업용 리츠', '주택건설', '천연가스 유틸리티', '커뮤니케이션 및 네트워킹',\n",
    "# '컴퓨터, 전화 및 가전제품', '통신 서비스', '통합 하드웨어 및 소프트웨어', '투자은행 및 서비스', '핀테크', '학교',\n",
    "# '헬스케어 업체 및 서비스', '헬스케어 장비 및 용품', '호텔 및 엔터테인먼트', '화물 및 물류 서비스', '화학']\n",
    "\n",
    "date='2022-07-17'\n",
    "\n",
    "def profitab_df(index,sector):\n",
    "    index_list = fdr.StockListing(index)\n",
    "    industry = dict(list(index_list.groupby('Industry')))\n",
    "    tickers=list(industry[sector]['Symbol'].values)\n",
    "    downloadf=yf.download(tickers,start='2022-03-01',end=date,progress=False)\n",
    "    downloadf_red=downloadf['Adj Close'].iloc[-1]-downloadf['Adj Close'].iloc[0]\n",
    "    df=pd.Series(downloadf_red)\n",
    "    df=df.sort_values(ascending=False)\n",
    "    df.to_excel(excel_writer=\"%s_profit_%s.xlsx\"%(index,sector))\n",
    "    return(df)\n",
    "profitab_df('NYSE','제약')"
   ]
  },
  {
   "cell_type": "markdown",
   "id": "f9f83418",
   "metadata": {},
   "source": [
    "### 제무제표 비교"
   ]
  },
  {
   "cell_type": "code",
   "execution_count": 65,
   "id": "42f43818",
   "metadata": {},
   "outputs": [
    {
     "name": "stderr",
     "output_type": "stream",
     "text": [
      " 75%|██████████████████████████████████████████████████████████▊                   | 2580/3421 [16:03<05:14,  2.68it/s]\n"
     ]
    },
    {
     "data": {
      "text/html": [
       "<div>\n",
       "<style scoped>\n",
       "    .dataframe tbody tr th:only-of-type {\n",
       "        vertical-align: middle;\n",
       "    }\n",
       "\n",
       "    .dataframe tbody tr th {\n",
       "        vertical-align: top;\n",
       "    }\n",
       "\n",
       "    .dataframe thead th {\n",
       "        text-align: right;\n",
       "    }\n",
       "</style>\n",
       "<table border=\"1\" class=\"dataframe\">\n",
       "  <thead>\n",
       "    <tr style=\"text-align: right;\">\n",
       "      <th></th>\n",
       "      <th>PER</th>\n",
       "      <th>FPER</th>\n",
       "      <th>PBR</th>\n",
       "      <th>PEGR</th>\n",
       "      <th>ROE</th>\n",
       "      <th>EPS</th>\n",
       "      <th>CPS</th>\n",
       "    </tr>\n",
       "  </thead>\n",
       "  <tbody>\n",
       "    <tr>\n",
       "      <th>KO</th>\n",
       "      <td>9.852337</td>\n",
       "      <td>5.625400</td>\n",
       "      <td>3.744672</td>\n",
       "      <td>0.27</td>\n",
       "      <td>0.40310</td>\n",
       "      <td>22.470</td>\n",
       "      <td>3.726</td>\n",
       "    </tr>\n",
       "    <tr>\n",
       "      <th>UNH</th>\n",
       "      <td>5.353159</td>\n",
       "      <td>6.193548</td>\n",
       "      <td>1.392448</td>\n",
       "      <td>0.56</td>\n",
       "      <td>0.30070</td>\n",
       "      <td>41.445</td>\n",
       "      <td>3.843</td>\n",
       "    </tr>\n",
       "    <tr>\n",
       "      <th>NEE</th>\n",
       "      <td>106.364860</td>\n",
       "      <td>25.638437</td>\n",
       "      <td>4.308627</td>\n",
       "      <td>3.10</td>\n",
       "      <td>0.01414</td>\n",
       "      <td>8.268</td>\n",
       "      <td>0.752</td>\n",
       "    </tr>\n",
       "    <tr>\n",
       "      <th>DVN</th>\n",
       "      <td>26.371310</td>\n",
       "      <td>23.674242</td>\n",
       "      <td>10.894196</td>\n",
       "      <td>3.83</td>\n",
       "      <td>0.42064</td>\n",
       "      <td>9.286</td>\n",
       "      <td>2.389</td>\n",
       "    </tr>\n",
       "    <tr>\n",
       "      <th>HUN</th>\n",
       "      <td>28.995620</td>\n",
       "      <td>21.395395</td>\n",
       "      <td>6.604044</td>\n",
       "      <td>NaN</td>\n",
       "      <td>0.24253</td>\n",
       "      <td>325.782</td>\n",
       "      <td>29.436</td>\n",
       "    </tr>\n",
       "  </tbody>\n",
       "</table>\n",
       "</div>"
      ],
      "text/plain": [
       "            PER       FPER        PBR  PEGR      ROE      EPS     CPS\n",
       "KO     9.852337   5.625400   3.744672  0.27  0.40310   22.470   3.726\n",
       "UNH    5.353159   6.193548   1.392448  0.56  0.30070   41.445   3.843\n",
       "NEE  106.364860  25.638437   4.308627  3.10  0.01414    8.268   0.752\n",
       "DVN   26.371310  23.674242  10.894196  3.83  0.42064    9.286   2.389\n",
       "HUN   28.995620  21.395395   6.604044   NaN  0.24253  325.782  29.436"
      ]
     },
     "execution_count": 65,
     "metadata": {},
     "output_type": "execute_result"
    }
   ],
   "source": [
    "holding = ['KO','HUN','NEE','UNH','DVN']\n",
    "view=['UNH','ENPH']\n",
    "data2=[]\n",
    "def financial_shape(ticker):\n",
    "    info=yf.Tickers(ticker).tickers[ticker].info\n",
    "    data2.append([info[\"trailingPE\"],\n",
    "                  info[\"forwardPE\"],\n",
    "                  info[\"priceToBook\"],\n",
    "                  info[\"pegRatio\"],\n",
    "                  info[\"returnOnEquity\"],\n",
    "                  info[\"revenuePerShare\"],\n",
    "                  info[\"totalCashPerShare\"]])\n",
    "\n",
    "def financial_comparison(tickerlist):\n",
    "    with ThreadPoolExecutor() as executor:\n",
    "        executor.map(financial_shape, tickerlist)\n",
    "    df=pd.DataFrame(data=data2,index=tickerlist,columns=['PER','FPER','PBR','PEGR','ROE','EPS','CPS'])\n",
    "    df=df.sort_values('PEGR',ascending=True)\n",
    "    return df\n",
    "\n",
    "financial_comparison(holding)"
   ]
  },
  {
   "cell_type": "code",
   "execution_count": null,
   "id": "ccdca3af",
   "metadata": {},
   "outputs": [],
   "source": []
  }
 ],
 "metadata": {
  "kernelspec": {
   "display_name": "Python 3 (ipykernel)",
   "language": "python",
   "name": "python3"
  },
  "language_info": {
   "codemirror_mode": {
    "name": "ipython",
    "version": 3
   },
   "file_extension": ".py",
   "mimetype": "text/x-python",
   "name": "python",
   "nbconvert_exporter": "python",
   "pygments_lexer": "ipython3",
   "version": "3.9.7"
  }
 },
 "nbformat": 4,
 "nbformat_minor": 5
}
