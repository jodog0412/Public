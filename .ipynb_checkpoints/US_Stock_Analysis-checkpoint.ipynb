{
 "cells": [
  {
   "cell_type": "markdown",
   "id": "5d71badf",
   "metadata": {},
   "source": [
    "# US Stock Analysis\n",
    "- 포트폴리오 시각화\n",
    "- 포트폴리오 수익률 분석\n",
    "- 종목 검색\n",
    "- 재무제표 비교"
   ]
  },
  {
   "cell_type": "markdown",
   "id": "e6c4ba99",
   "metadata": {},
   "source": [
    "### 함수 호출"
   ]
  },
  {
   "cell_type": "code",
   "execution_count": 2,
   "id": "4337ffbd",
   "metadata": {},
   "outputs": [],
   "source": [
    "import numpy as np\n",
    "import pandas as pd\n",
    "import yfinance as yf\n",
    "import FinanceDataReader as fdr\n",
    "import matplotlib.pyplot as plt\n",
    "import seaborn as sns\n",
    "yf.pdr_override()"
   ]
  },
  {
   "cell_type": "markdown",
   "id": "462d22f2",
   "metadata": {},
   "source": [
    "### 데이터 생성 및 시각화"
   ]
  },
  {
   "cell_type": "code",
   "execution_count": 6,
   "id": "b656305c",
   "metadata": {},
   "outputs": [
    {
     "data": {
      "text/html": [
       "<div>\n",
       "<style scoped>\n",
       "    .dataframe tbody tr th:only-of-type {\n",
       "        vertical-align: middle;\n",
       "    }\n",
       "\n",
       "    .dataframe tbody tr th {\n",
       "        vertical-align: top;\n",
       "    }\n",
       "\n",
       "    .dataframe thead th {\n",
       "        text-align: right;\n",
       "    }\n",
       "</style>\n",
       "<table border=\"1\" class=\"dataframe\">\n",
       "  <thead>\n",
       "    <tr style=\"text-align: right;\">\n",
       "      <th></th>\n",
       "      <th>AVERPRICE</th>\n",
       "      <th>STOCKNUM</th>\n",
       "      <th>HOLDQUANTITY</th>\n",
       "    </tr>\n",
       "  </thead>\n",
       "  <tbody>\n",
       "    <tr>\n",
       "      <th>UNH</th>\n",
       "      <td>536.38</td>\n",
       "      <td>0.316620</td>\n",
       "      <td>169.828636</td>\n",
       "    </tr>\n",
       "    <tr>\n",
       "      <th>DVN</th>\n",
       "      <td>64.15</td>\n",
       "      <td>1.542892</td>\n",
       "      <td>98.976522</td>\n",
       "    </tr>\n",
       "    <tr>\n",
       "      <th>KO</th>\n",
       "      <td>59.48</td>\n",
       "      <td>1.000000</td>\n",
       "      <td>59.480000</td>\n",
       "    </tr>\n",
       "    <tr>\n",
       "      <th>SQQQ</th>\n",
       "      <td>55.31</td>\n",
       "      <td>0.915238</td>\n",
       "      <td>50.621814</td>\n",
       "    </tr>\n",
       "    <tr>\n",
       "      <th>HUN</th>\n",
       "      <td>34.92</td>\n",
       "      <td>1.144485</td>\n",
       "      <td>39.965416</td>\n",
       "    </tr>\n",
       "    <tr>\n",
       "      <th>NEE</th>\n",
       "      <td>76.58</td>\n",
       "      <td>0.504387</td>\n",
       "      <td>38.625956</td>\n",
       "    </tr>\n",
       "    <tr>\n",
       "      <th>PSQ</th>\n",
       "      <td>13.62</td>\n",
       "      <td>1.393538</td>\n",
       "      <td>18.979988</td>\n",
       "    </tr>\n",
       "    <tr>\n",
       "      <th>AAPL</th>\n",
       "      <td>156.57</td>\n",
       "      <td>0.108477</td>\n",
       "      <td>16.984244</td>\n",
       "    </tr>\n",
       "  </tbody>\n",
       "</table>\n",
       "</div>"
      ],
      "text/plain": [
       "      AVERPRICE  STOCKNUM  HOLDQUANTITY\n",
       "UNH      536.38  0.316620    169.828636\n",
       "DVN       64.15  1.542892     98.976522\n",
       "KO        59.48  1.000000     59.480000\n",
       "SQQQ      55.31  0.915238     50.621814\n",
       "HUN       34.92  1.144485     39.965416\n",
       "NEE       76.58  0.504387     38.625956\n",
       "PSQ       13.62  1.393538     18.979988\n",
       "AAPL     156.57  0.108477     16.984244"
      ]
     },
     "execution_count": 6,
     "metadata": {},
     "output_type": "execute_result"
    },
    {
     "data": {
      "image/png": "[encoded data removed]",
      "text/plain": [
       "<Figure size 432x288 with 1 Axes>"
      ]
     },
     "metadata": {},
     "output_type": "display_data"
    }
   ],
   "source": [
    "portfolio={\n",
    "    'KO':[59.48,1],\n",
    "    'HUN':[34.92,1.144485],\n",
    "    'NEE':[76.58,0.504387],\n",
    "    'UNH':[536.38,0.31662],\n",
    "    'DVN':[64.15,1.542892],\n",
    "    'AAPL':[156.57,0.108477],\n",
    "    'PSQ':[13.62,1.393538],\n",
    "    'SQQQ':[55.31,0.915238]\n",
    "}\n",
    "\n",
    "enddate='2022-06-04'\n",
    "\n",
    "def portfolio_summary(company,value):\n",
    "    df=pd.DataFrame(index=company, data=value, columns=['AVERPRICE','STOCKNUM'])\n",
    "    df[\"HOLDQUANTITY\"]=df[\"AVERPRICE\"]*df[\"STOCKNUM\"]\n",
    "    df_sort=df.sort_values(\"HOLDQUANTITY\",ascending=False)\n",
    "    df_plot=plt.pie(df_sort[\"HOLDQUANTITY\"],labels=df_sort.index,autopct='%.1f%%',startangle=90)    \n",
    "    return(df_sort)\n",
    "    return(df_plot)\n",
    "\n",
    "portfolio_summary(list(portfolio.keys()),list(portfolio.values())) #회사 리스트,회사 정보"
   ]
  },
  {
   "cell_type": "code",
   "execution_count": 7,
   "id": "c71d8db8",
   "metadata": {
    "scrolled": true
   },
   "outputs": [
    {
     "data": {
      "text/plain": [
       "KO       5.766644\n",
       "NEE      1.710629\n",
       "PSQ      1.468427\n",
       "UNH     -5.727282\n",
       "SQQQ    -5.984451\n",
       "AAPL    -9.522895\n",
       "DVN     -9.914262\n",
       "HUN    -17.898052\n",
       "dtype: float64"
      ]
     },
     "execution_count": 7,
     "metadata": {},
     "output_type": "execute_result"
    }
   ],
   "source": [
    "def holds_dataframing(company,date): #수익률 데이터화\n",
    "    downloadf=yf.download(company,start='2022-03-01',end=date,progress=False,group_by='ticker')\n",
    "    memory={}\n",
    "    for cmp in company:\n",
    "        profit_per=(downloadf[cmp]['Adj Close'][-1]/portfolio[cmp][0]-1)*100\n",
    "        memory[cmp]=profit_per\n",
    "    profit_dataf=pd.Series(memory).sort_values(ascending=False)\n",
    "    return(profit_dataf)\n",
    "\n",
    "holds_dataframing(list(portfolio.keys()),'2022-06-28') #회사 리스트,날짜"
   ]
  },
  {
   "cell_type": "markdown",
   "id": "1e8b9c29",
   "metadata": {},
   "source": [
    "### 종목 가져오기"
   ]
  },
  {
   "cell_type": "code",
   "execution_count": 24,
   "id": "387f7e62",
   "metadata": {},
   "outputs": [
    {
     "name": "stderr",
     "output_type": "stream",
     "text": [
      "100%|█████████████████████████████████████████████████████████████████████████████| 3426/3426 [00:07<00:00, 469.97it/s]\n"
     ]
    },
    {
     "name": "stdout",
     "output_type": "stream",
     "text": [
      "\n",
      "3 Failed downloads:\n",
      "- EHC WI: No data found, symbol may be delisted\n",
      "- EHAB WI: No data found, symbol may be delisted\n",
      "- GTS: No data found, symbol may be delisted\n"
     ]
    },
    {
     "data": {
      "text/plain": [
       "USPH       21.535756\n",
       "AMWL       17.730496\n",
       "CI         13.684665\n",
       "OSH        13.192458\n",
       "SGFY        9.110318\n",
       "SEM         8.878298\n",
       "AGL         8.555893\n",
       "ELV         7.377335\n",
       "HUM         7.115763\n",
       "UNH         6.954624\n",
       "DGX         6.073784\n",
       "AMN         5.944976\n",
       "CNC         2.360200\n",
       "CANO       -0.821354\n",
       "CHE        -1.458726\n",
       "CVS        -8.316335\n",
       "HIMS       -8.812252\n",
       "MD         -9.160629\n",
       "CCM        -9.478670\n",
       "MOH       -10.528888\n",
       "LH        -10.781788\n",
       "ATIP      -12.755102\n",
       "EHC       -13.853507\n",
       "HNGR      -17.108169\n",
       "FMS       -19.292093\n",
       "CO        -21.921179\n",
       "UHS       -24.711009\n",
       "HCA       -27.784612\n",
       "DVA       -29.555729\n",
       "BKD       -29.796514\n",
       "THC       -33.864402\n",
       "SNDA      -37.235294\n",
       "ENZ       -38.905775\n",
       "TDOC      -50.652092\n",
       "CYH       -61.084681\n",
       "GTS              NaN\n",
       "EHC WI           NaN\n",
       "EHAB WI          NaN\n",
       "dtype: float64"
      ]
     },
     "execution_count": 24,
     "metadata": {},
     "output_type": "execute_result"
    }
   ],
   "source": [
    "# ['가정용품', '개인, 가정 용품 및 서비스', '건설 및 엔지니어링', '건설장비 및 대형차, 기차, 배',\n",
    "# '건축 자재', '교육서비스', '기타 금융업', '다양한 금융서비스', '다양한 산업재 도매업', '다양한 소매업',\n",
    "# '레저 상품', '메탈&마이닝', '미디어 및 출판', '반도체 및 반도체 장비', '보험', '복합 기업', '복합 유틸리티', '부동산 운영 관리',\n",
    "# '비즈니스교육', '사무기기', '생명과학 및 메디컬 리서치', '석유', '섬유 및 의류', '소프트웨어 및 IT서비스', '수도 유틸리티',\n",
    "# '식품 및 담배', '식품 및 약품소매', '오일 및 가스', '오일 및 가스 장비 및 서비스', '용기 및 포장', '우라늄', '우주항공 및 국방',\n",
    "# '운송 인프라', '운송업', '은행', '음료', '자동차 및 자동차 부품', '재생에너지', '전기 유틸리티', '전문 및 상업 서비스', '전문품 상점',\n",
    "# '전자 장비 및 부품', '제약', '종이 및 임산물', '주택 및 상업용 리츠', '주택건설', '천연가스 유틸리티', '커뮤니케이션 및 네트워킹',\n",
    "# '컴퓨터, 전화 및 가전제품', '통신 서비스', '통합 하드웨어 및 소프트웨어', '투자은행 및 서비스', '핀테크', '학교',\n",
    "# '헬스케어 업체 및 서비스', '헬스케어 장비 및 용품', '호텔 및 엔터테인먼트', '화물 및 물류 서비스', '화학']\n",
    "\n",
    "def search_dataframing(index,sector,date): \n",
    "    index_list = fdr.StockListing(index)\n",
    "    industry = dict(list(index_list.groupby('Industry')))\n",
    "    tickers=industry[sector]['Symbol'].values\n",
    "    downloadf=yf.download(list(tickers),start='2022-03-01',end=date,progress=False,group_by='ticker')\n",
    "    memory={}\n",
    "    for ticker in list(tickers):\n",
    "        profit_per=(downloadf[ticker]['Adj Close'][-1]/downloadf[ticker]['Adj Close'][0]-1)*100\n",
    "        memory[ticker]=profit_per\n",
    "    profit_dataf=pd.Series(memory).sort_values(ascending=False)\n",
    "    profit_dataf.to_excel(excel_writer=\"%s_profit_%s.xlsx\"%(index,sector))\n",
    "    return(profit_dataf)\n",
    "\n",
    "search_dataframing('NYSE','헬스케어 업체 및 서비스','2022-06-28')"
   ]
  },
  {
   "cell_type": "markdown",
   "id": "f9f83418",
   "metadata": {},
   "source": [
    "### 제무제표 비교"
   ]
  },
  {
   "cell_type": "code",
   "execution_count": 14,
   "id": "42f43818",
   "metadata": {},
   "outputs": [
    {
     "data": {
      "text/html": [
       "<div>\n",
       "<style scoped>\n",
       "    .dataframe tbody tr th:only-of-type {\n",
       "        vertical-align: middle;\n",
       "    }\n",
       "\n",
       "    .dataframe tbody tr th {\n",
       "        vertical-align: top;\n",
       "    }\n",
       "\n",
       "    .dataframe thead th {\n",
       "        text-align: right;\n",
       "    }\n",
       "</style>\n",
       "<table border=\"1\" class=\"dataframe\">\n",
       "  <thead>\n",
       "    <tr style=\"text-align: right;\">\n",
       "      <th></th>\n",
       "      <th>TPER</th>\n",
       "      <th>FPER</th>\n",
       "      <th>PBR</th>\n",
       "      <th>PEGR</th>\n",
       "      <th>EV/EB</th>\n",
       "      <th>ROE</th>\n",
       "      <th>EPS</th>\n",
       "      <th>CPS</th>\n",
       "    </tr>\n",
       "  </thead>\n",
       "  <tbody>\n",
       "    <tr>\n",
       "      <th>MPC</th>\n",
       "      <td>20.917454</td>\n",
       "      <td>10.471074</td>\n",
       "      <td>2.016369</td>\n",
       "      <td>0.27</td>\n",
       "      <td>8.230</td>\n",
       "      <td>0.12817</td>\n",
       "      <td>222.006</td>\n",
       "      <td>19.588</td>\n",
       "    </tr>\n",
       "    <tr>\n",
       "      <th>GOOG</th>\n",
       "      <td>20.359270</td>\n",
       "      <td>17.073103</td>\n",
       "      <td>5.839119</td>\n",
       "      <td>1.41</td>\n",
       "      <td>13.723</td>\n",
       "      <td>0.30800</td>\n",
       "      <td>406.892</td>\n",
       "      <td>203.447</td>\n",
       "    </tr>\n",
       "    <tr>\n",
       "      <th>SEDG</th>\n",
       "      <td>95.958755</td>\n",
       "      <td>28.847105</td>\n",
       "      <td>7.692562</td>\n",
       "      <td>1.43</td>\n",
       "      <td>59.011</td>\n",
       "      <td>0.11073</td>\n",
       "      <td>42.118</td>\n",
       "      <td>20.967</td>\n",
       "    </tr>\n",
       "    <tr>\n",
       "      <th>MSFT</th>\n",
       "      <td>26.772444</td>\n",
       "      <td>23.880821</td>\n",
       "      <td>11.779727</td>\n",
       "      <td>1.71</td>\n",
       "      <td>19.915</td>\n",
       "      <td>0.48721</td>\n",
       "      <td>25.642</td>\n",
       "      <td>13.994</td>\n",
       "    </tr>\n",
       "    <tr>\n",
       "      <th>SNPS</th>\n",
       "      <td>47.322740</td>\n",
       "      <td>31.081882</td>\n",
       "      <td>8.347398</td>\n",
       "      <td>1.80</td>\n",
       "      <td>34.533</td>\n",
       "      <td>0.18812</td>\n",
       "      <td>31.111</td>\n",
       "      <td>11.247</td>\n",
       "    </tr>\n",
       "  </tbody>\n",
       "</table>\n",
       "</div>"
      ],
      "text/plain": [
       "           TPER       FPER        PBR  PEGR   EV/EB      ROE      EPS      CPS\n",
       "MPC   20.917454  10.471074   2.016369  0.27   8.230  0.12817  222.006   19.588\n",
       "GOOG  20.359270  17.073103   5.839119  1.41  13.723  0.30800  406.892  203.447\n",
       "SEDG  95.958755  28.847105   7.692562  1.43  59.011  0.11073   42.118   20.967\n",
       "MSFT  26.772444  23.880821  11.779727  1.71  19.915  0.48721   25.642   13.994\n",
       "SNPS  47.322740  31.081882   8.347398  1.80  34.533  0.18812   31.111   11.247"
      ]
     },
     "execution_count": 14,
     "metadata": {},
     "output_type": "execute_result"
    }
   ],
   "source": [
    "search= ['MTR','CVI','PBF','BPT','PVL','DK']\n",
    "holding = ['KO','HUN','NEE','UNH','DVN']\n",
    "view=['SEDG','MPC','GOOG','SNPS','MSFT']\n",
    "\n",
    "def financial_comparison(tickerlist):\n",
    "    memory={}\n",
    "    for ticker in tickerlist:\n",
    "        ticker_yf=yf.Ticker(ticker)\n",
    "        memory[ticker]=[ticker_yf.info[\"trailingPE\"],\n",
    "                         ticker_yf.info[\"forwardPE\"],\n",
    "                         ticker_yf.info[\"priceToBook\"],\n",
    "                         ticker_yf.info[\"pegRatio\"],\n",
    "                         ticker_yf.info[\"enterpriseToEbitda\"],\n",
    "                         ticker_yf.info[\"returnOnEquity\"],\n",
    "                         ticker_yf.info[\"revenuePerShare\"],\n",
    "                         ticker_yf.info[\"totalCashPerShare\"]]\n",
    "    df=pd.DataFrame(data=memory.values(),index=memory.keys(),columns=['TPER','FPER','PBR','PEGR','EV/EB','ROE','EPS','CPS'])\n",
    "    df_sort=df.sort_values('PEGR',ascending=True)\n",
    "    return(df_sort)\n",
    "\n",
    "financial_comparison(view)"
   ]
  }
 ],
 "metadata": {
  "kernelspec": {
   "display_name": "Python 3 (ipykernel)",
   "language": "python",
   "name": "python3"
  },
  "language_info": {
   "codemirror_mode": {
    "name": "ipython",
    "version": 3
   },
   "file_extension": ".py",
   "mimetype": "text/x-python",
   "name": "python",
   "nbconvert_exporter": "python",
   "pygments_lexer": "ipython3",
   "version": "3.9.7"
  }
 },
 "nbformat": 4,
 "nbformat_minor": 5
}
