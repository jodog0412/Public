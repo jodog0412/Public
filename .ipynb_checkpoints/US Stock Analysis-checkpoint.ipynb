{
 "cells": [
  {
   "cell_type": "markdown",
   "id": "5d71badf",
   "metadata": {},
   "source": [
    "# US Stock Analysis\n",
    "- 포트폴리오 시각화\n",
    "- 포트폴리오 수익률 분석\n",
    "- 종목 검색\n",
    "- 재무제표 비교"
   ]
  },
  {
   "cell_type": "markdown",
   "id": "e6c4ba99",
   "metadata": {},
   "source": [
    "### 함수 호출"
   ]
  },
  {
   "cell_type": "code",
   "execution_count": null,
   "id": "4337ffbd",
   "metadata": {},
   "outputs": [],
   "source": [
    "import numpy as np\n",
    "import pandas as pd\n",
    "import yfinance as yf\n",
    "import FinanceDataReader as fdr\n",
    "import matplotlib.pyplot as plt\n",
    "yf.pdr_override()"
   ]
  },
  {
   "cell_type": "markdown",
   "id": "462d22f2",
   "metadata": {},
   "source": [
    "### 데이터 생성 및 시각화"
   ]
  },
  {
   "cell_type": "code",
   "execution_count": null,
   "id": "b656305c",
   "metadata": {},
   "outputs": [],
   "source": [
    "portfolio={\n",
    "    'KO':[59.48,1],\n",
    "    'HUN':[34.92,1.144485],\n",
    "    'NEE':[76.59,1],\n",
    "    'UNH':[536.38,0.31662],\n",
    "    'HAL':[37.31,1],\n",
    "    'DVN':[64.15,1.542892],\n",
    "    'AAPL':[156.57,0.108477],\n",
    "    'PSQ':[13.62,1.393538],\n",
    "    'SQQQ':[54.08,1.10827]\n",
    "}\n",
    "\n",
    "enddate='2022-06-04'\n",
    "\n",
    "def portfolio_summary(company,value):\n",
    "    portfolio_dataf=pd.DataFrame(index=company, data=value, columns=['AVERPRICE','STOCKNUM'])\n",
    "    portfolio_dataf[\"HOLDQUANTITY\"]=portfolio_dataf[\"AVERPRICE\"]*portfolio_dataf[\"STOCKNUM\"]\n",
    "    portfolio_dataf_sort=portfolio_dataf.sort_values(\"HOLDQUANTITY\",ascending=False)\n",
    "    portfolio_plot=plt.pie(portfolio_dataf[\"HOLDQUANTITY\"],labels=company,autopct='%.1f%%',startangle=90)    \n",
    "    return(portfolio_dataf_sort)\n",
    "    return(portfolio_plot)\n",
    "\n",
    "portfolio_summary(list(portfolio.keys()),list(portfolio.values())) #회사 리스트,회사 정보"
   ]
  },
  {
   "cell_type": "code",
   "execution_count": null,
   "id": "c71d8db8",
   "metadata": {
    "scrolled": true
   },
   "outputs": [],
   "source": [
    "def holds_dataframing(company,date): #수익률 데이터화\n",
    "    downloadf=yf.download(company,start='2022-03-01',end=date,progress=False,group_by='ticker')\n",
    "    freeset={}\n",
    "    for cmp in company:\n",
    "        profit_per=(downloadf[cmp]['Adj Close'][-1]/portfolio[cmp][0]-1)*100\n",
    "        freeset[cmp]=profit_per\n",
    "    profit_dataf=pd.Series(freeset).sort_values(ascending=False)\n",
    "    return(profit_dataf)\n",
    "\n",
    "holds_dataframing(list(portfolio.keys()),'2022-06-11') #회사 리스트,날짜"
   ]
  },
  {
   "cell_type": "markdown",
   "id": "1e8b9c29",
   "metadata": {},
   "source": [
    "### 종목 가져오기"
   ]
  },
  {
   "cell_type": "code",
   "execution_count": null,
   "id": "387f7e62",
   "metadata": {},
   "outputs": [],
   "source": [
    "# ['가정용품', '개인, 가정 용품 및 서비스', '건설 및 엔지니어링', '건설장비 및 대형차, 기차, 배',\n",
    "# '건축 자재', '교육서비스', '기타 금융업', '다양한 금융서비스', '다양한 산업재 도매업', '다양한 소매업',\n",
    "# '레저 상품', '메탈&마이닝', '미디어 및 출판', '반도체 및 반도체 장비', '보험', '복합 기업', '복합 유틸리티', '부동산 운영 관리',\n",
    "# '비즈니스교육', '사무기기', '생명과학 및 메디컬 리서치', '석유', '섬유 및 의류', '소프트웨어 및 IT서비스', '수도 유틸리티',\n",
    "# '식품 및 담배', '식품 및 약품소매', '오일 및 가스', '오일 및 가스 장비 및 서비스', '용기 및 포장', '우라늄', '우주항공 및 국방',\n",
    "# '운송 인프라', '운송업', '은행', '음료', '자동차 및 자동차 부품', '재생에너지', '전기 유틸리티', '전문 및 상업 서비스', '전문품 상점',\n",
    "# '전자 장비 및 부품', '제약', '종이 및 임산물', '주택 및 상업용 리츠', '주택건설', '천연가스 유틸리티', '커뮤니케이션 및 네트워킹',\n",
    "# '컴퓨터, 전화 및 가전제품', '통신 서비스', '통합 하드웨어 및 소프트웨어', '투자은행 및 서비스', '핀테크', '학교',\n",
    "# '헬스케어 업체 및 서비스', '헬스케어 장비 및 용품', '호텔 및 엔터테인먼트', '화물 및 물류 서비스', '화학']\n",
    "\n",
    "def search_dataframing(index,sector,date): \n",
    "    index_list = fdr.StockListing(index)\n",
    "    industry = dict(list(index_list.groupby('Industry')))\n",
    "    tickers=industry[sector]['Symbol'].values\n",
    "    downloadf=yf.download(list(tickers),start='2022-03-01',end=date,progress=False,group_by='ticker')\n",
    "    freeset={}\n",
    "    for ticker in list(tickers):\n",
    "        profit_per=(downloadf[ticker]['Adj Close'][-1]/downloadf[ticker]['Adj Close'][0]-1)*100\n",
    "    profit_dataf=pd.Series(freeset).sort_values(ascending=False)\n",
    "    profit_dataf.to_csv(\"%s_profit_%s\"%(index,sector))\n",
    "    return(profit_dataf)\n",
    "\n",
    "search_dataframing('NYSE','오일 및 가스','2022-06-18')\n",
    "search_dataframing('NASDAQ','재생에너지','2022-06-18')"
   ]
  },
  {
   "cell_type": "markdown",
   "id": "f9f83418",
   "metadata": {},
   "source": [
    "### 제무제표 비교"
   ]
  },
  {
   "cell_type": "code",
   "execution_count": null,
   "id": "42f43818",
   "metadata": {},
   "outputs": [],
   "source": [
    "search= ['MTR','CVI','PBF','BPT','PVL','DK']\n",
    "holding = ['KO','HUN','NEE','UNH','DVN']\n",
    "view=['HUN','MU','NRG','MPC','GOOG','SNPS','MSFT']\n",
    "\n",
    "def financial_comparison(tickerlist):\n",
    "    freeset={}\n",
    "    for ticker in tickerlist:\n",
    "        ticker_yf=yf.Ticker(ticker)\n",
    "        freeset[ticker]=[ticker_yf.info[\"trailingPE\"],\n",
    "                         ticker_yf.info[\"forwardPE\"],\n",
    "                         ticker_yf.info[\"priceToBook\"],\n",
    "                         ticker_yf.info[\"pegRatio\"],\n",
    "                         ticker_yf.info[\"enterpriseToEbitda\"],\n",
    "                         ticker_yf.info[\"returnOnEquity\"],\n",
    "                         ticker_yf.info[\"revenuePerShare\"],\n",
    "                         ticker_yf.info[\"totalCashPerShare\"]]\n",
    "    df=pd.DataFrame(data=freeset.values(),index=freeset.keys(),columns=['TPER','FPER','PBR','PEGR','EV/EB','ROE','EPS','CPS'])\n",
    "    df_sort=df.sort_values('PEGR',ascending=True)\n",
    "    return(df_sort)\n",
    "\n",
    "financial_comparison(holding)"
   ]
  }
 ],
 "metadata": {
  "kernelspec": {
   "display_name": "Python 3 (ipykernel)",
   "language": "python",
   "name": "python3"
  },
  "language_info": {
   "codemirror_mode": {
    "name": "ipython",
    "version": 3
   },
   "file_extension": ".py",
   "mimetype": "text/x-python",
   "name": "python",
   "nbconvert_exporter": "python",
   "pygments_lexer": "ipython3",
   "version": "3.9.7"
  }
 },
 "nbformat": 4,
 "nbformat_minor": 5
}
