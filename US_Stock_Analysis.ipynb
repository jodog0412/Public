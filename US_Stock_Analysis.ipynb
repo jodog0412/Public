{
 "cells": [
  {
   "cell_type": "markdown",
   "id": "5d71badf",
   "metadata": {},
   "source": [
    "# US Stock Analysis\n",
    "- 포트폴리오 시각화\n",
    "- 포트폴리오 수익률 분석\n",
    "- 종목 검색\n",
    "- 재무제표 비교"
   ]
  },
  {
   "cell_type": "markdown",
   "id": "e6c4ba99",
   "metadata": {},
   "source": [
    "### 함수 호출"
   ]
  },
  {
   "cell_type": "code",
   "execution_count": 219,
   "id": "4337ffbd",
   "metadata": {},
   "outputs": [],
   "source": [
    "import numpy as np\n",
    "import concurrent.futures\n",
    "from concurrent.futures import ThreadPoolExecutor\n",
    "import pandas as pd\n",
    "import yfinance as yf\n",
    "import FinanceDataReader as fdr\n",
    "import matplotlib.pyplot as plt\n",
    "import seaborn as sns\n",
    "yf.pdr_override()"
   ]
  },
  {
   "cell_type": "markdown",
   "id": "462d22f2",
   "metadata": {},
   "source": [
    "### 데이터 생성 및 시각화"
   ]
  },
  {
   "cell_type": "code",
   "execution_count": 199,
   "id": "b656305c",
   "metadata": {},
   "outputs": [
    {
     "name": "stdout",
     "output_type": "stream",
     "text": [
      "      STOCKNUM   PRICE  HOLDQUANTITY\n",
      "HUN   1.144485   34.91     39.953971\n",
      "KO    0.627861   59.47     37.338894\n",
      "NEE   0.504387   76.58     38.625956\n",
      "PSQ   2.889528   13.36     38.604094\n",
      "SQQQ  1.345487   51.65     69.494404\n",
      "UNH   0.077527  533.03     41.324217\n"
     ]
    },
    {
     "data": {
      "image/png": "[encoded data removed]",
      "text/plain": [
       "<Figure size 432x288 with 1 Axes>"
      ]
     },
     "metadata": {},
     "output_type": "display_data"
    }
   ],
   "source": [
    "# DATA INPUT \n",
    "name=['NEE','KO','UNH','PSQ','SQQQ','HUN']\n",
    "stocknum=[0.504387,0.627861,0.077527,2.889528,1.345487,1.144485]\n",
    "price=[76.58,59.47,533.03,13.36,51.65,34.91]\n",
    "date='2022-07-24'\n",
    "\n",
    "# DATAFRAMING\n",
    "def portfolio_dataf(name,stocknum,price):\n",
    "    global pf\n",
    "    stocknum=np.mat(stocknum).T\n",
    "    price=np.mat(price).T\n",
    "    datas=np.array(np.hstack([stocknum,price]))\n",
    "    pf=pd.DataFrame(index=name,data=datas,columns=['STOCKNUM','PRICE'])\n",
    "    pf[\"HOLDQUANTITY\"]=pf[\"PRICE\"]*pf[\"STOCKNUM\"]\n",
    "    pf=pf.sort_index()\n",
    "    print(pf)\n",
    "portfolio_dataf(name,stocknum,price)\n",
    "\n",
    "def portfolio_plt(pf):\n",
    "    pf=pf.sort_values(\"HOLDQUANTITY\",ascending=False)\n",
    "    pf_plot=plt.pie(pf[\"HOLDQUANTITY\"],labels=pf.index,autopct='%.1f%%',startangle=90)    \n",
    "    return(plt.show(pf_plot))\n",
    "portfolio_plt(pf)"
   ]
  },
  {
   "cell_type": "code",
   "execution_count": 200,
   "id": "c71d8db8",
   "metadata": {
    "scrolled": true
   },
   "outputs": [
    {
     "data": {
      "text/plain": [
       "NEE      4.792374\n",
       "KO       3.564823\n",
       "PSQ     -0.149699\n",
       "UNH     -2.179995\n",
       "SQQQ   -10.784120\n",
       "HUN    -16.814664\n",
       "dtype: float64"
      ]
     },
     "execution_count": 200,
     "metadata": {},
     "output_type": "execute_result"
    }
   ],
   "source": [
    "def holds_dataframing(company,date): #수익률 데이터화\n",
    "    data_yf=yf.download(name,start='2022-04-01',end=date,progress=False)\n",
    "    data=data_yf['Adj Close'].iloc[-1]\n",
    "    data=(data/pf['PRICE']-1)*100\n",
    "    df=data.sort_values(ascending=False)\n",
    "    return(df)\n",
    "\n",
    "holds_dataframing(name,date) #회사 리스트,날짜"
   ]
  },
  {
   "cell_type": "markdown",
   "id": "1e8b9c29",
   "metadata": {},
   "source": [
    "### 종목 가져오기"
   ]
  },
  {
   "cell_type": "code",
   "execution_count": 226,
   "id": "387f7e62",
   "metadata": {},
   "outputs": [
    {
     "name": "stderr",
     "output_type": "stream",
     "text": [
      "100%|█████████████████████████████████████████████████████████████████████████████| 3420/3420 [00:07<00:00, 449.84it/s]\n"
     ]
    },
    {
     "name": "stdout",
     "output_type": "stream",
     "text": [
      "\n",
      "4 Failed downloads:\n",
      "- BIO.B: No data found for this date range, symbol may be delisted\n",
      "- CMD: No data found, symbol may be delisted\n",
      "- DHR PR B: No data found, symbol may be delisted\n",
      "- BSX PR A: No data found, symbol may be delisted\n"
     ]
    },
    {
     "data": {
      "text/plain": [
       "WAT          17.279999\n",
       "HAE           6.379997\n",
       "EVH           5.449999\n",
       "FNA           3.280001\n",
       "AGTI          2.459999\n",
       "ABC           0.122452\n",
       "CDRE         -0.620178\n",
       "OWLT         -0.740000\n",
       "IVC          -0.810000\n",
       "AORT         -1.109999\n",
       "STVN         -1.179999\n",
       "BFLY         -1.450000\n",
       "RBOT         -2.740000\n",
       "SONX         -3.000000\n",
       "BBLN         -3.839000\n",
       "BDXB         -4.093967\n",
       "TMO          -4.506836\n",
       "GKOS         -4.890003\n",
       "ALC          -5.517235\n",
       "AVTR         -5.959999\n",
       "BSX          -6.619999\n",
       "SNN          -7.686462\n",
       "AVNS         -8.539999\n",
       "NVST         -9.209999\n",
       "ABT         -10.789505\n",
       "A           -11.095535\n",
       "PHG         -11.808418\n",
       "OMI         -12.070000\n",
       "EW          -12.940002\n",
       "VAPO        -13.240000\n",
       "GMED        -13.980000\n",
       "MDT         -14.451767\n",
       "ITGR        -16.100006\n",
       "WRBY        -17.920000\n",
       "DHR         -18.111450\n",
       "ZBH         -19.460876\n",
       "BAX         -19.729103\n",
       "RMD         -20.719131\n",
       "BDX         -23.665115\n",
       "VEEV        -25.970001\n",
       "NVRO        -28.989998\n",
       "STE         -30.272797\n",
       "INSP        -44.179993\n",
       "PKI         -44.361221\n",
       "CNMD        -49.565811\n",
       "SYK         -66.996536\n",
       "WST         -86.399597\n",
       "TFX         -91.412979\n",
       "PEN         -99.240005\n",
       "COO        -115.509979\n",
       "BIO        -131.920013\n",
       "BIO.B              NaN\n",
       "BLCO               NaN\n",
       "BSX PR A           NaN\n",
       "CMD                NaN\n",
       "DHR PR B           NaN\n",
       "dtype: float64"
      ]
     },
     "execution_count": 226,
     "metadata": {},
     "output_type": "execute_result"
    }
   ],
   "source": [
    "# ['가정용품', '개인, 가정 용품 및 서비스', '건설 및 엔지니어링', '건설장비 및 대형차, 기차, 배',\n",
    "# '건축 자재', '교육서비스', '기타 금융업', '다양한 금융서비스', '다양한 산업재 도매업', '다양한 소매업',\n",
    "# '레저 상품', '메탈&마이닝', '미디어 및 출판', '반도체 및 반도체 장비', '보험', '복합 기업', '복합 유틸리티', '부동산 운영 관리',\n",
    "# '비즈니스교육', '사무기기', '생명과학 및 메디컬 리서치', '석유', '섬유 및 의류', '소프트웨어 및 IT서비스', '수도 유틸리티',\n",
    "# '식품 및 담배', '식품 및 약품소매', '오일 및 가스', '오일 및 가스 장비 및 서비스', '용기 및 포장', '우라늄', '우주항공 및 국방',\n",
    "# '운송 인프라', '운송업', '은행', '음료', '자동차 및 자동차 부품', '재생에너지', '전기 유틸리티', '전문 및 상업 서비스', '전문품 상점',\n",
    "# '전자 장비 및 부품', '제약', '종이 및 임산물', '주택 및 상업용 리츠', '주택건설', '천연가스 유틸리티', '커뮤니케이션 및 네트워킹',\n",
    "# '컴퓨터, 전화 및 가전제품', '통신 서비스', '통합 하드웨어 및 소프트웨어', '투자은행 및 서비스', '핀테크', '학교',\n",
    "# '헬스케어 업체 및 서비스', '헬스케어 장비 및 용품', '호텔 및 엔터테인먼트', '화물 및 물류 서비스', '화학']\n",
    "\n",
    "date='2022-07-17'\n",
    "\n",
    "def profitab_df(index,sector):\n",
    "    index_list = fdr.StockListing(index)\n",
    "    industry = dict(list(index_list.groupby('Industry')))\n",
    "    tickers=list(industry[sector]['Symbol'].values)\n",
    "    downloadf=yf.download(tickers,start='2022-03-01',end=date,progress=False)\n",
    "    downloadf_rd=downloadf['Adj Close'].iloc[-1]-downloadf['Adj Close'].iloc[0]\n",
    "    df=pd.Series(downloadf_rd)\n",
    "    df=df.sort_values(ascending=False)\n",
    "    df.to_excel(excel_writer=\"%s_profit_%s.xlsx\"%(index,sector))\n",
    "    return(df)\n",
    "profitab_df('NYSE','헬스케어 장비 및 용품')"
   ]
  },
  {
   "cell_type": "markdown",
   "id": "f9f83418",
   "metadata": {},
   "source": [
    "### 제무제표 비교"
   ]
  },
  {
   "cell_type": "code",
   "execution_count": 1,
   "id": "42f43818",
   "metadata": {},
   "outputs": [
    {
     "ename": "NameError",
     "evalue": "name 'yf' is not defined",
     "output_type": "error",
     "traceback": [
      "\u001b[1;31m---------------------------------------------------------------------------\u001b[0m",
      "\u001b[1;31mNameError\u001b[0m                                 Traceback (most recent call last)",
      "\u001b[1;32m~\\AppData\\Local\\Temp/ipykernel_17020/2153736042.py\u001b[0m in \u001b[0;36m<module>\u001b[1;34m\u001b[0m\n\u001b[0;32m     20\u001b[0m     \u001b[1;32mreturn\u001b[0m \u001b[0mdf\u001b[0m\u001b[1;33m\u001b[0m\u001b[1;33m\u001b[0m\u001b[0m\n\u001b[0;32m     21\u001b[0m \u001b[1;33m\u001b[0m\u001b[0m\n\u001b[1;32m---> 22\u001b[1;33m \u001b[0mfinancial_comparison\u001b[0m\u001b[1;33m(\u001b[0m\u001b[0mview\u001b[0m\u001b[1;33m)\u001b[0m\u001b[1;33m\u001b[0m\u001b[1;33m\u001b[0m\u001b[0m\n\u001b[0m",
      "\u001b[1;32m~\\AppData\\Local\\Temp/ipykernel_17020/2153736042.py\u001b[0m in \u001b[0;36mfinancial_comparison\u001b[1;34m(tickerlist)\u001b[0m\n\u001b[0;32m     15\u001b[0m \u001b[1;32mdef\u001b[0m \u001b[0mfinancial_comparison\u001b[0m\u001b[1;33m(\u001b[0m\u001b[0mtickerlist\u001b[0m\u001b[1;33m)\u001b[0m\u001b[1;33m:\u001b[0m\u001b[1;33m\u001b[0m\u001b[1;33m\u001b[0m\u001b[0m\n\u001b[0;32m     16\u001b[0m     \u001b[1;32mfor\u001b[0m \u001b[0mi\u001b[0m \u001b[1;32min\u001b[0m \u001b[0mtickerlist\u001b[0m\u001b[1;33m:\u001b[0m\u001b[1;33m\u001b[0m\u001b[1;33m\u001b[0m\u001b[0m\n\u001b[1;32m---> 17\u001b[1;33m         \u001b[0mfinancial_shape\u001b[0m\u001b[1;33m(\u001b[0m\u001b[0mi\u001b[0m\u001b[1;33m)\u001b[0m\u001b[1;33m\u001b[0m\u001b[1;33m\u001b[0m\u001b[0m\n\u001b[0m\u001b[0;32m     18\u001b[0m     \u001b[0mdf\u001b[0m\u001b[1;33m=\u001b[0m\u001b[0mpd\u001b[0m\u001b[1;33m.\u001b[0m\u001b[0mDataFrame\u001b[0m\u001b[1;33m(\u001b[0m\u001b[0mdata\u001b[0m\u001b[1;33m=\u001b[0m\u001b[0mfinan\u001b[0m\u001b[1;33m,\u001b[0m\u001b[0mindex\u001b[0m\u001b[1;33m=\u001b[0m\u001b[0mtickerlist\u001b[0m\u001b[1;33m,\u001b[0m\u001b[0mcolumns\u001b[0m\u001b[1;33m=\u001b[0m\u001b[1;33m[\u001b[0m\u001b[1;34m'PER'\u001b[0m\u001b[1;33m,\u001b[0m\u001b[1;34m'FPER'\u001b[0m\u001b[1;33m,\u001b[0m\u001b[1;34m'PBR'\u001b[0m\u001b[1;33m,\u001b[0m\u001b[1;34m'PEGR'\u001b[0m\u001b[1;33m,\u001b[0m\u001b[1;34m'ROE'\u001b[0m\u001b[1;33m,\u001b[0m\u001b[1;34m'EPS'\u001b[0m\u001b[1;33m,\u001b[0m\u001b[1;34m'CPS'\u001b[0m\u001b[1;33m]\u001b[0m\u001b[1;33m)\u001b[0m\u001b[1;33m\u001b[0m\u001b[1;33m\u001b[0m\u001b[0m\n\u001b[0;32m     19\u001b[0m     \u001b[0mdf\u001b[0m\u001b[1;33m=\u001b[0m\u001b[0mdf\u001b[0m\u001b[1;33m.\u001b[0m\u001b[0msort_values\u001b[0m\u001b[1;33m(\u001b[0m\u001b[1;34m'PEGR'\u001b[0m\u001b[1;33m,\u001b[0m\u001b[0mascending\u001b[0m\u001b[1;33m=\u001b[0m\u001b[1;32mTrue\u001b[0m\u001b[1;33m)\u001b[0m\u001b[1;33m\u001b[0m\u001b[1;33m\u001b[0m\u001b[0m\n",
      "\u001b[1;32m~\\AppData\\Local\\Temp/ipykernel_17020/2153736042.py\u001b[0m in \u001b[0;36mfinancial_shape\u001b[1;34m(ticker)\u001b[0m\n\u001b[0;32m      3\u001b[0m \u001b[0mfinan\u001b[0m\u001b[1;33m=\u001b[0m\u001b[1;33m[\u001b[0m\u001b[1;33m]\u001b[0m\u001b[1;33m\u001b[0m\u001b[1;33m\u001b[0m\u001b[0m\n\u001b[0;32m      4\u001b[0m \u001b[1;32mdef\u001b[0m \u001b[0mfinancial_shape\u001b[0m\u001b[1;33m(\u001b[0m\u001b[0mticker\u001b[0m\u001b[1;33m)\u001b[0m\u001b[1;33m:\u001b[0m\u001b[1;33m\u001b[0m\u001b[1;33m\u001b[0m\u001b[0m\n\u001b[1;32m----> 5\u001b[1;33m     \u001b[0mticker_yf\u001b[0m\u001b[1;33m=\u001b[0m\u001b[0myf\u001b[0m\u001b[1;33m.\u001b[0m\u001b[0mTicker\u001b[0m\u001b[1;33m(\u001b[0m\u001b[0mticker\u001b[0m\u001b[1;33m)\u001b[0m\u001b[1;33m\u001b[0m\u001b[1;33m\u001b[0m\u001b[0m\n\u001b[0m\u001b[0;32m      6\u001b[0m     \u001b[0minfo\u001b[0m\u001b[1;33m=\u001b[0m\u001b[0mticker_yf\u001b[0m\u001b[1;33m.\u001b[0m\u001b[0minfo\u001b[0m\u001b[1;33m\u001b[0m\u001b[1;33m\u001b[0m\u001b[0m\n\u001b[0;32m      7\u001b[0m     finan.append([info[\"trailingPE\"],\n",
      "\u001b[1;31mNameError\u001b[0m: name 'yf' is not defined"
     ]
    }
   ],
   "source": [
    "holding = ['KO','HUN','NEE','UNH']\n",
    "view=['UNH','DHR','AMN','CHE','ABT','LLY','CI']\n",
    "finan=[]\n",
    "def financial_shape(ticker):\n",
    "    ticker_yf=yf.Ticker(ticker)\n",
    "    info=ticker_yf.info\n",
    "    finan.append([info[\"trailingPE\"],\n",
    "                  info[\"forwardPE\"],\n",
    "                  info[\"priceToBook\"],\n",
    "                  info[\"pegRatio\"],\n",
    "                  info[\"returnOnEquity\"],\n",
    "                  info[\"revenuePerShare\"],\n",
    "                  info[\"totalCashPerShare\"]])\n",
    "\n",
    "def financial_comparison(tickerlist):\n",
    "    for i in tickerlist: \n",
    "        financial_shape(i)\n",
    "    df=pd.DataFrame(data=finan,index=tickerlist,columns=['PER','FPER','PBR','PEGR','ROE','EPS','CPS'])\n",
    "    df=df.sort_values('PEGR',ascending=True)\n",
    "    return df\n",
    "\n",
    "financial_comparison(view)"
   ]
  },
  {
   "cell_type": "code",
   "execution_count": null,
   "id": "ccdca3af",
   "metadata": {},
   "outputs": [],
   "source": []
  }
 ],
 "metadata": {
  "kernelspec": {
   "display_name": "Python 3 (ipykernel)",
   "language": "python",
   "name": "python3"
  },
  "language_info": {
   "codemirror_mode": {
    "name": "ipython",
    "version": 3
   },
   "file_extension": ".py",
   "mimetype": "text/x-python",
   "name": "python",
   "nbconvert_exporter": "python",
   "pygments_lexer": "ipython3",
   "version": "3.9.7"
  }
 },
 "nbformat": 4,
 "nbformat_minor": 5
}
