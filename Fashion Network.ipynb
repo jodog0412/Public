{
 "cells": [
  {
   "cell_type": "markdown",
   "id": "95ff1e16",
   "metadata": {},
   "source": [
    "# Fashion Network\n",
    "- 소유하고 있는 옷의 상호연결성 확인"
   ]
  },
  {
   "cell_type": "code",
   "execution_count": 2,
   "id": "8226040f",
   "metadata": {},
   "outputs": [],
   "source": [
    "import networkx as nx\n",
    "import pandas as pd\n",
    "import matplotlib.pyplot as plt"
   ]
  },
  {
   "cell_type": "code",
   "execution_count": 26,
   "id": "8d8d539a",
   "metadata": {},
   "outputs": [
    {
     "data": {
      "text/html": [
       "<div>\n",
       "<style scoped>\n",
       "    .dataframe tbody tr th:only-of-type {\n",
       "        vertical-align: middle;\n",
       "    }\n",
       "\n",
       "    .dataframe tbody tr th {\n",
       "        vertical-align: top;\n",
       "    }\n",
       "\n",
       "    .dataframe thead th {\n",
       "        text-align: right;\n",
       "    }\n",
       "</style>\n",
       "<table border=\"1\" class=\"dataframe\">\n",
       "  <thead>\n",
       "    <tr style=\"text-align: right;\">\n",
       "      <th></th>\n",
       "      <th>SKBLJ</th>\n",
       "      <th>BLJ</th>\n",
       "      <th>WISLAC</th>\n",
       "    </tr>\n",
       "  </thead>\n",
       "  <tbody>\n",
       "    <tr>\n",
       "      <th>CRDGN</th>\n",
       "      <td>1</td>\n",
       "      <td>0</td>\n",
       "      <td>0</td>\n",
       "    </tr>\n",
       "    <tr>\n",
       "      <th>MTM</th>\n",
       "      <td>0</td>\n",
       "      <td>1</td>\n",
       "      <td>0</td>\n",
       "    </tr>\n",
       "    <tr>\n",
       "      <th>HOOD</th>\n",
       "      <td>0</td>\n",
       "      <td>1</td>\n",
       "      <td>0</td>\n",
       "    </tr>\n",
       "    <tr>\n",
       "      <th>SHT</th>\n",
       "      <td>0</td>\n",
       "      <td>0</td>\n",
       "      <td>1</td>\n",
       "    </tr>\n",
       "    <tr>\n",
       "      <th>KNIT</th>\n",
       "      <td>1</td>\n",
       "      <td>0</td>\n",
       "      <td>1</td>\n",
       "    </tr>\n",
       "  </tbody>\n",
       "</table>\n",
       "</div>"
      ],
      "text/plain": [
       "       SKBLJ  BLJ  WISLAC\n",
       "CRDGN      1    0       0\n",
       "MTM        0    1       0\n",
       "HOOD       0    1       0\n",
       "SHT        0    0       1\n",
       "KNIT       1    0       1"
      ]
     },
     "execution_count": 26,
     "metadata": {},
     "output_type": "execute_result"
    }
   ],
   "source": [
    "up=['CRDGN','MTM','HOOD','SHT','KNIT']\n",
    "down=['SKBLJ','BLJ','WISLAC']\n",
    "clothes=up+down\n",
    "weight_list=[[1,0,0],\n",
    "             [0,1,0],\n",
    "             [0,1,0],\n",
    "             [0,0,1],\n",
    "             [1,0,1]]\n",
    "initdataf=pd.DataFrame(index=up,columns=down,data=weight_list)\n",
    "initdataf"
   ]
  },
  {
   "cell_type": "code",
   "execution_count": 37,
   "id": "e77602be",
   "metadata": {},
   "outputs": [
    {
     "data": {
      "image/png": "[encoded data removed]",
      "text/plain": [
       "<Figure size 432x288 with 1 Axes>"
      ]
     },
     "metadata": {},
     "output_type": "display_data"
    }
   ],
   "source": [
    "# 봄 옷\n",
    "## initial data\n",
    "G=nx.Graph()\n",
    "\n",
    "\n",
    "## 좌표 설정\n",
    "pos={}\n",
    "a=0\n",
    "b=0\n",
    "for i in clothes:\n",
    "    if i in up:\n",
    "        pos[i]=(0,a)\n",
    "        a+=1\n",
    "    else:\n",
    "        pos[i]=(1,b)\n",
    "        b+=1\n",
    "## node plot\n",
    "def draw_node_custom(x,y): #x=Clothing list, y=colorcode\n",
    "    nodesize=1200\n",
    "    nx.draw_networkx_nodes(G,pos,nodelist=x,node_color=y,node_size=nodesize)\n",
    "draw_node_custom(['CRDGN','MTM'],\"#000000\")\n",
    "draw_node_custom(['SHT','KNIT','HOOD'],\"#240989\")\n",
    "draw_node_custom(['SKBLJ'],\"#08D9F2\")\n",
    "draw_node_custom(['BLJ'],\"#1496DF\")\n",
    "draw_node_custom(['WISLAC'],\"#F0EDBE\")\n",
    "\n",
    "## 엣지 설정\n",
    "edgelist=[]\n",
    "for i in up:\n",
    "    for j in down:\n",
    "        if initdataf.loc[i][j]==1:\n",
    "            edgelist.append((i,j))\n",
    "\n",
    "nx.draw_networkx_edges(G,pos,edgelist=edgelist,edge_color='black')\n",
    "\n",
    "## 라벨 설정\n",
    "labels={}\n",
    "for i in clothes:\n",
    "    labels[i]=i\n",
    "nx.draw_networkx_labels(G, pos, labels, font_size=12, font_color=\"white\")\n",
    "\n",
    "## graph 그리기\n",
    "plt.tight_layout()\n",
    "plt.axis(\"off\")\n",
    "plt.show()"
   ]
  },
  {
   "cell_type": "code",
   "execution_count": null,
   "id": "b6e1fd0c",
   "metadata": {},
   "outputs": [],
   "source": []
  }
 ],
 "metadata": {
  "kernelspec": {
   "display_name": "Python 3 (ipykernel)",
   "language": "python",
   "name": "python3"
  },
  "language_info": {
   "codemirror_mode": {
    "name": "ipython",
    "version": 3
   },
   "file_extension": ".py",
   "mimetype": "text/x-python",
   "name": "python",
   "nbconvert_exporter": "python",
   "pygments_lexer": "ipython3",
   "version": "3.9.7"
  }
 },
 "nbformat": 4,
 "nbformat_minor": 5
}
